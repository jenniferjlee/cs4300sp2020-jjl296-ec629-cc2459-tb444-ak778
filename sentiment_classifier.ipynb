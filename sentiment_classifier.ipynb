{
 "cells": [
  {
   "cell_type": "markdown",
   "metadata": {},
   "source": [
    "## Sentiment Classifier (Positive News / Other News)"
   ]
  },
  {
   "cell_type": "markdown",
   "metadata": {},
   "source": [
    "Instead of Positive, Negative, and Neutral News, we will only classify news as 'positive' (1) or otherwise (0), since we are only concerned with positive articles and our dataset is comprised of positive and unclassified news (removed suspected positive articles through pre-defined sentiment analysis tool `textblob`)."
   ]
  },
  {
   "cell_type": "markdown",
   "metadata": {},
   "source": [
    "Reference: https://chrisalbon.com/machine_learning/preprocessing_text/tf-idf/"
   ]
  },
  {
   "cell_type": "code",
   "execution_count": 172,
   "metadata": {},
   "outputs": [],
   "source": [
    "import pandas as pd\n",
    "import matplotlib.pyplot as plt\n",
    "from textblob import TextBlob\n",
    "from nltk.corpus import stopwords\n",
    "import pickle \n",
    "\n",
    "from sklearn.model_selection import train_test_split\n",
    "from sklearn.feature_extraction.text import TfidfVectorizer\n",
    "from sklearn.feature_extraction.text import CountVectorizer\n",
    "from sklearn.svm import LinearSVC\n",
    "from sklearn.metrics import classification_report, confusion_matrix, accuracy_score\n",
    "\n",
    "from random import *"
   ]
  },
  {
   "cell_type": "markdown",
   "metadata": {},
   "source": [
    "___"
   ]
  },
  {
   "cell_type": "markdown",
   "metadata": {},
   "source": [
    "### Cleaning 'Other' (Negative/Neutral) Articles"
   ]
  },
  {
   "cell_type": "code",
   "execution_count": 99,
   "metadata": {},
   "outputs": [],
   "source": [
    "df_other = pd.read_json('data/unclassifiedarticles.json')"
   ]
  },
  {
   "cell_type": "code",
   "execution_count": 100,
   "metadata": {},
   "outputs": [],
   "source": [
    "def calculate_polarity(row):\n",
    "    return TextBlob(row).sentiment.polarity\n",
    "    \n",
    "df_other['polarity'] = df_other['transcript'].apply(calculate_polarity)"
   ]
  },
  {
   "cell_type": "code",
   "execution_count": 101,
   "metadata": {},
   "outputs": [
    {
     "data": {
      "text/plain": [
       "count    1013.000000\n",
       "mean        0.076154\n",
       "std         0.073877\n",
       "min        -0.347619\n",
       "25%         0.037120\n",
       "50%         0.076446\n",
       "75%         0.117075\n",
       "max         0.408225\n",
       "Name: polarity, dtype: float64"
      ]
     },
     "execution_count": 101,
     "metadata": {},
     "output_type": "execute_result"
    }
   ],
   "source": [
    "df_other['polarity'].describe()"
   ]
  },
  {
   "cell_type": "markdown",
   "metadata": {},
   "source": [
    "#### Removing suspected positive articles"
   ]
  },
  {
   "cell_type": "code",
   "execution_count": 102,
   "metadata": {},
   "outputs": [],
   "source": [
    "df_other = df_other[df_other['polarity'] <= 0.117] # Remove everything above 75% percentile"
   ]
  },
  {
   "cell_type": "code",
   "execution_count": 103,
   "metadata": {},
   "outputs": [
    {
     "data": {
      "text/plain": [
       "759"
      ]
     },
     "execution_count": 103,
     "metadata": {},
     "output_type": "execute_result"
    }
   ],
   "source": [
    "len(df_other)"
   ]
  },
  {
   "cell_type": "markdown",
   "metadata": {},
   "source": [
    "#### Assumption: All articles in the current 'df_other' are either negative or neutral, and none are clearly positive."
   ]
  },
  {
   "cell_type": "markdown",
   "metadata": {},
   "source": [
    "---"
   ]
  },
  {
   "cell_type": "markdown",
   "metadata": {},
   "source": [
    "### Cleaning Positive Articles"
   ]
  },
  {
   "cell_type": "code",
   "execution_count": 104,
   "metadata": {},
   "outputs": [],
   "source": [
    "df_positive = pd.read_json('data/total_data_2.json')"
   ]
  },
  {
   "cell_type": "code",
   "execution_count": 105,
   "metadata": {},
   "outputs": [
    {
     "data": {
      "text/html": [
       "<div>\n",
       "<style scoped>\n",
       "    .dataframe tbody tr th:only-of-type {\n",
       "        vertical-align: middle;\n",
       "    }\n",
       "\n",
       "    .dataframe tbody tr th {\n",
       "        vertical-align: top;\n",
       "    }\n",
       "\n",
       "    .dataframe thead th {\n",
       "        text-align: right;\n",
       "    }\n",
       "</style>\n",
       "<table border=\"1\" class=\"dataframe\">\n",
       "  <thead>\n",
       "    <tr style=\"text-align: right;\">\n",
       "      <th></th>\n",
       "      <th>Unnamed: 0</th>\n",
       "      <th>title</th>\n",
       "      <th>url</th>\n",
       "      <th>date</th>\n",
       "      <th>transcript</th>\n",
       "      <th>source</th>\n",
       "    </tr>\n",
       "  </thead>\n",
       "  <tbody>\n",
       "    <tr>\n",
       "      <th>0</th>\n",
       "      <td>0</td>\n",
       "      <td>16-Year-Old Has Been Using His Flying Lessons ...</td>\n",
       "      <td>https://www.goodnewsnetwork.org/teen-flies-sup...</td>\n",
       "      <td>2020-04-09</td>\n",
       "      <td>16-year-old TJ Kim may not have his driver’s l...</td>\n",
       "      <td>goodnewsnetwork.org</td>\n",
       "    </tr>\n",
       "    <tr>\n",
       "      <th>1</th>\n",
       "      <td>1</td>\n",
       "      <td>Tyler Perry Picks Up the Tab for All Groceries...</td>\n",
       "      <td>https://www.goodnewsnetwork.org/tyler-perry-pa...</td>\n",
       "      <td>2020-04-09</td>\n",
       "      <td>It’s not uncommon for movie mogul Tyler Perry ...</td>\n",
       "      <td>goodnewsnetwork.org</td>\n",
       "    </tr>\n",
       "  </tbody>\n",
       "</table>\n",
       "</div>"
      ],
      "text/plain": [
       "   Unnamed: 0                                              title  \\\n",
       "0           0  16-Year-Old Has Been Using His Flying Lessons ...   \n",
       "1           1  Tyler Perry Picks Up the Tab for All Groceries...   \n",
       "\n",
       "                                                 url       date  \\\n",
       "0  https://www.goodnewsnetwork.org/teen-flies-sup... 2020-04-09   \n",
       "1  https://www.goodnewsnetwork.org/tyler-perry-pa... 2020-04-09   \n",
       "\n",
       "                                          transcript               source  \n",
       "0  16-year-old TJ Kim may not have his driver’s l...  goodnewsnetwork.org  \n",
       "1  It’s not uncommon for movie mogul Tyler Perry ...  goodnewsnetwork.org  "
      ]
     },
     "execution_count": 105,
     "metadata": {},
     "output_type": "execute_result"
    }
   ],
   "source": [
    "df_positive.head(2)"
   ]
  },
  {
   "cell_type": "code",
   "execution_count": 106,
   "metadata": {},
   "outputs": [],
   "source": [
    "try:\n",
    "    df_positive = df_positive.drop('Unnamed: 0', axis = 1)\n",
    "except:\n",
    "    pass"
   ]
  },
  {
   "cell_type": "code",
   "execution_count": 107,
   "metadata": {},
   "outputs": [],
   "source": [
    "def calculate_polarity(row):\n",
    "    return TextBlob(row).sentiment.polarity\n",
    "    \n",
    "df_positive['polarity'] = df_positive['transcript'].apply(calculate_polarity)"
   ]
  },
  {
   "cell_type": "code",
   "execution_count": 108,
   "metadata": {},
   "outputs": [
    {
     "data": {
      "text/plain": [
       "count    1062.000000\n",
       "mean        0.135837\n",
       "std         0.178191\n",
       "min        -0.133333\n",
       "25%         0.041512\n",
       "50%         0.108415\n",
       "75%         0.171805\n",
       "max         1.000000\n",
       "Name: polarity, dtype: float64"
      ]
     },
     "execution_count": 108,
     "metadata": {},
     "output_type": "execute_result"
    }
   ],
   "source": [
    "df_positive['polarity'].describe()"
   ]
  },
  {
   "cell_type": "code",
   "execution_count": 109,
   "metadata": {},
   "outputs": [],
   "source": [
    "df_positive = df_positive[df_positive['polarity'] >= 0.04] # Remove everything below 25% percentile"
   ]
  },
  {
   "cell_type": "code",
   "execution_count": 110,
   "metadata": {},
   "outputs": [
    {
     "data": {
      "text/plain": [
       "798"
      ]
     },
     "execution_count": 110,
     "metadata": {},
     "output_type": "execute_result"
    }
   ],
   "source": [
    "len(df_positive)"
   ]
  },
  {
   "cell_type": "markdown",
   "metadata": {},
   "source": [
    "____"
   ]
  },
  {
   "cell_type": "markdown",
   "metadata": {},
   "source": [
    "### Data Joining, Pre-Processing and Feature Engineering"
   ]
  },
  {
   "cell_type": "code",
   "execution_count": 147,
   "metadata": {},
   "outputs": [],
   "source": [
    "df_positive['positivity'] = 1\n",
    "df_other['positivity'] = 0"
   ]
  },
  {
   "cell_type": "code",
   "execution_count": 148,
   "metadata": {},
   "outputs": [],
   "source": [
    "df = pd.concat([df_positive, df_other])"
   ]
  },
  {
   "cell_type": "code",
   "execution_count": 149,
   "metadata": {},
   "outputs": [
    {
     "data": {
      "text/html": [
       "<div>\n",
       "<style scoped>\n",
       "    .dataframe tbody tr th:only-of-type {\n",
       "        vertical-align: middle;\n",
       "    }\n",
       "\n",
       "    .dataframe tbody tr th {\n",
       "        vertical-align: top;\n",
       "    }\n",
       "\n",
       "    .dataframe thead th {\n",
       "        text-align: right;\n",
       "    }\n",
       "</style>\n",
       "<table border=\"1\" class=\"dataframe\">\n",
       "  <thead>\n",
       "    <tr style=\"text-align: right;\">\n",
       "      <th></th>\n",
       "      <th>title</th>\n",
       "      <th>url</th>\n",
       "      <th>date</th>\n",
       "      <th>transcript</th>\n",
       "      <th>source</th>\n",
       "      <th>polarity</th>\n",
       "      <th>positivity</th>\n",
       "    </tr>\n",
       "  </thead>\n",
       "  <tbody>\n",
       "    <tr>\n",
       "      <th>0</th>\n",
       "      <td>16-Year-Old Has Been Using His Flying Lessons ...</td>\n",
       "      <td>https://www.goodnewsnetwork.org/teen-flies-sup...</td>\n",
       "      <td>2020-04-09</td>\n",
       "      <td>16-year-old TJ Kim may not have his driver’s l...</td>\n",
       "      <td>goodnewsnetwork.org</td>\n",
       "      <td>0.214592</td>\n",
       "      <td>1</td>\n",
       "    </tr>\n",
       "    <tr>\n",
       "      <th>1</th>\n",
       "      <td>Tyler Perry Picks Up the Tab for All Groceries...</td>\n",
       "      <td>https://www.goodnewsnetwork.org/tyler-perry-pa...</td>\n",
       "      <td>2020-04-09</td>\n",
       "      <td>It’s not uncommon for movie mogul Tyler Perry ...</td>\n",
       "      <td>goodnewsnetwork.org</td>\n",
       "      <td>0.234015</td>\n",
       "      <td>1</td>\n",
       "    </tr>\n",
       "  </tbody>\n",
       "</table>\n",
       "</div>"
      ],
      "text/plain": [
       "                                               title  \\\n",
       "0  16-Year-Old Has Been Using His Flying Lessons ...   \n",
       "1  Tyler Perry Picks Up the Tab for All Groceries...   \n",
       "\n",
       "                                                 url       date  \\\n",
       "0  https://www.goodnewsnetwork.org/teen-flies-sup... 2020-04-09   \n",
       "1  https://www.goodnewsnetwork.org/tyler-perry-pa... 2020-04-09   \n",
       "\n",
       "                                          transcript               source  \\\n",
       "0  16-year-old TJ Kim may not have his driver’s l...  goodnewsnetwork.org   \n",
       "1  It’s not uncommon for movie mogul Tyler Perry ...  goodnewsnetwork.org   \n",
       "\n",
       "   polarity  positivity  \n",
       "0  0.214592           1  \n",
       "1  0.234015           1  "
      ]
     },
     "execution_count": 149,
     "metadata": {},
     "output_type": "execute_result"
    }
   ],
   "source": [
    "df.head(2)"
   ]
  },
  {
   "cell_type": "code",
   "execution_count": 150,
   "metadata": {},
   "outputs": [
    {
     "data": {
      "text/plain": [
       "<matplotlib.axes._subplots.AxesSubplot at 0x127081390>"
      ]
     },
     "execution_count": 150,
     "metadata": {},
     "output_type": "execute_result"
    },
    {
     "data": {
      "image/png": "[encoded data removed]",
      "text/plain": [
       "<Figure size 432x288 with 1 Axes>"
      ]
     },
     "metadata": {},
     "output_type": "display_data"
    }
   ],
   "source": [
    "df['positivity'].value_counts().plot(kind=\"bar\")"
   ]
  },
  {
   "cell_type": "code",
   "execution_count": 151,
   "metadata": {},
   "outputs": [],
   "source": [
    "# df = df.drop('polarity', axis = 1)\n",
    "# df.head(2)"
   ]
  },
  {
   "cell_type": "markdown",
   "metadata": {},
   "source": [
    "___"
   ]
  },
  {
   "cell_type": "code",
   "execution_count": 152,
   "metadata": {},
   "outputs": [],
   "source": [
    "X = df['transcript']\n",
    "y = df['positivity']"
   ]
  },
  {
   "cell_type": "markdown",
   "metadata": {},
   "source": [
    "### Baseline - Classifier"
   ]
  },
  {
   "cell_type": "code",
   "execution_count": 153,
   "metadata": {},
   "outputs": [],
   "source": [
    "x_train, x_test, y_train, y_test = train_test_split(X, y, test_size=0.2)"
   ]
  },
  {
   "cell_type": "code",
   "execution_count": 154,
   "metadata": {},
   "outputs": [
    {
     "data": {
      "text/plain": [
       "312"
      ]
     },
     "execution_count": 154,
     "metadata": {},
     "output_type": "execute_result"
    }
   ],
   "source": [
    "len(x_test)"
   ]
  },
  {
   "cell_type": "code",
   "execution_count": 155,
   "metadata": {},
   "outputs": [],
   "source": [
    "baseline_predictions = [randint(0,1) for b in range(1, len(x_test) + 1)]"
   ]
  },
  {
   "cell_type": "code",
   "execution_count": 156,
   "metadata": {},
   "outputs": [
    {
     "name": "stdout",
     "output_type": "stream",
     "text": [
      "              precision    recall  f1-score   support\n",
      "\n",
      "           0       0.53      0.55      0.54       158\n",
      "           1       0.52      0.51      0.51       154\n",
      "\n",
      "    accuracy                           0.53       312\n",
      "   macro avg       0.53      0.53      0.53       312\n",
      "weighted avg       0.53      0.53      0.53       312\n",
      "\n"
     ]
    }
   ],
   "source": [
    "print(classification_report(y_test, baseline_predictions))"
   ]
  },
  {
   "cell_type": "code",
   "execution_count": 157,
   "metadata": {},
   "outputs": [],
   "source": [
    "baseline_accuracy = accuracy_score(y_test, baseline_predictions)"
   ]
  },
  {
   "cell_type": "markdown",
   "metadata": {},
   "source": [
    "### Classifier"
   ]
  },
  {
   "cell_type": "code",
   "execution_count": 162,
   "metadata": {},
   "outputs": [],
   "source": [
    "v = TfidfVectorizer(stop_words=stopwords.words('english'))"
   ]
  },
  {
   "cell_type": "code",
   "execution_count": 163,
   "metadata": {},
   "outputs": [],
   "source": [
    "X_tfidf = v.fit_transform(X).toarray()"
   ]
  },
  {
   "cell_type": "code",
   "execution_count": 204,
   "metadata": {},
   "outputs": [],
   "source": [
    "# pickle.dump(v.vocabulary_,open(\"data/tfidf_classifier.pkl\",\"wb\"))"
   ]
  },
  {
   "cell_type": "code",
   "execution_count": 166,
   "metadata": {},
   "outputs": [],
   "source": [
    "x_train, x_test, y_train, y_test = train_test_split(X_tfidf, y, test_size=0.2)"
   ]
  },
  {
   "cell_type": "code",
   "execution_count": 167,
   "metadata": {},
   "outputs": [],
   "source": [
    "model_svm = LinearSVC().fit(x_train, y_train)"
   ]
  },
  {
   "cell_type": "code",
   "execution_count": 168,
   "metadata": {},
   "outputs": [],
   "source": [
    "predictions = model_svm.predict(x_test)"
   ]
  },
  {
   "cell_type": "code",
   "execution_count": 169,
   "metadata": {},
   "outputs": [
    {
     "name": "stdout",
     "output_type": "stream",
     "text": [
      "              precision    recall  f1-score   support\n",
      "\n",
      "           0       0.95      0.93      0.94       166\n",
      "           1       0.92      0.95      0.93       146\n",
      "\n",
      "    accuracy                           0.94       312\n",
      "   macro avg       0.94      0.94      0.94       312\n",
      "weighted avg       0.94      0.94      0.94       312\n",
      "\n"
     ]
    }
   ],
   "source": [
    "print(classification_report(y_test, predictions))"
   ]
  },
  {
   "cell_type": "code",
   "execution_count": 170,
   "metadata": {},
   "outputs": [],
   "source": [
    "clasifier_accuracy = accuracy_score(y_test, predictions)"
   ]
  },
  {
   "cell_type": "markdown",
   "metadata": {},
   "source": [
    "___"
   ]
  },
  {
   "cell_type": "code",
   "execution_count": 171,
   "metadata": {},
   "outputs": [
    {
     "name": "stdout",
     "output_type": "stream",
     "text": [
      "Improvement %: 76.96969696969697\n"
     ]
    }
   ],
   "source": [
    "print('Improvement %:', str(((clasifier_accuracy - baseline_accuracy) * 100) / baseline_accuracy))"
   ]
  },
  {
   "cell_type": "markdown",
   "metadata": {},
   "source": [
    "___"
   ]
  },
  {
   "cell_type": "markdown",
   "metadata": {},
   "source": [
    "___"
   ]
  },
  {
   "cell_type": "code",
   "execution_count": 1,
   "metadata": {},
   "outputs": [],
   "source": [
    "import pandas as pd\n",
    "from textblob import TextBlob\n",
    "from nltk.corpus import stopwords"
   ]
  },
  {
   "cell_type": "code",
   "execution_count": 95,
   "metadata": {},
   "outputs": [],
   "source": [
    "df_final = pd.read_json('app/irsystem/data/final_data_url.json')"
   ]
  },
  {
   "cell_type": "code",
   "execution_count": 185,
   "metadata": {},
   "outputs": [
    {
     "data": {
      "text/plain": [
       "array(['goodnewsnetwork.org', 'The New Daily', 'Newser', 'The Guardian',\n",
       "       'reddit.com/r/UpliftingNews'], dtype=object)"
      ]
     },
     "execution_count": 185,
     "metadata": {},
     "output_type": "execute_result"
    }
   ],
   "source": [
    "df_final['source'].unique()"
   ]
  },
  {
   "cell_type": "code",
   "execution_count": 189,
   "metadata": {},
   "outputs": [
    {
     "data": {
      "text/plain": [
       "953"
      ]
     },
     "execution_count": 189,
     "metadata": {},
     "output_type": "execute_result"
    }
   ],
   "source": [
    "len(df_final[df_final['source'] != 'reddit.com/r/UpliftingNews'])"
   ]
  },
  {
   "cell_type": "code",
   "execution_count": 190,
   "metadata": {},
   "outputs": [],
   "source": [
    "df_reddit = df_final[df_final['source'] == 'reddit.com/r/UpliftingNews']"
   ]
  },
  {
   "cell_type": "code",
   "execution_count": 191,
   "metadata": {},
   "outputs": [
    {
     "name": "stderr",
     "output_type": "stream",
     "text": [
      "/Library/Frameworks/Python.framework/Versions/3.7/lib/python3.7/site-packages/ipykernel_launcher.py:4: SettingWithCopyWarning: \n",
      "A value is trying to be set on a copy of a slice from a DataFrame.\n",
      "Try using .loc[row_indexer,col_indexer] = value instead\n",
      "\n",
      "See the caveats in the documentation: https://pandas.pydata.org/pandas-docs/stable/user_guide/indexing.html#returning-a-view-versus-a-copy\n",
      "  after removing the cwd from sys.path.\n"
     ]
    }
   ],
   "source": [
    "def calculate_polarity(row):\n",
    "    return TextBlob(row).sentiment.polarity\n",
    "    \n",
    "df_reddit['polarity'] = df_reddit['transcript'].apply(calculate_polarity)"
   ]
  },
  {
   "cell_type": "code",
   "execution_count": 196,
   "metadata": {},
   "outputs": [
    {
     "data": {
      "text/plain": [
       "0.0"
      ]
     },
     "execution_count": 196,
     "metadata": {},
     "output_type": "execute_result"
    }
   ],
   "source": [
    "df_reddit['polarity'].describe()['25%']"
   ]
  },
  {
   "cell_type": "code",
   "execution_count": 197,
   "metadata": {},
   "outputs": [
    {
     "data": {
      "text/html": [
       "<div>\n",
       "<style scoped>\n",
       "    .dataframe tbody tr th:only-of-type {\n",
       "        vertical-align: middle;\n",
       "    }\n",
       "\n",
       "    .dataframe tbody tr th {\n",
       "        vertical-align: top;\n",
       "    }\n",
       "\n",
       "    .dataframe thead th {\n",
       "        text-align: right;\n",
       "    }\n",
       "</style>\n",
       "<table border=\"1\" class=\"dataframe\">\n",
       "  <thead>\n",
       "    <tr style=\"text-align: right;\">\n",
       "      <th></th>\n",
       "      <th>title</th>\n",
       "      <th>url</th>\n",
       "      <th>date</th>\n",
       "      <th>transcript</th>\n",
       "      <th>source</th>\n",
       "      <th>subtitle</th>\n",
       "      <th>score</th>\n",
       "      <th>comments</th>\n",
       "      <th>thumbnail</th>\n",
       "      <th>polarity</th>\n",
       "    </tr>\n",
       "  </thead>\n",
       "  <tbody>\n",
       "    <tr>\n",
       "      <th>953</th>\n",
       "      <td>Lonely redditor shares phone number, reddit se...</td>\n",
       "      <td>http://www.reddit.com/r/offmychest/comments/15...</td>\n",
       "      <td>2013-01-01</td>\n",
       "      <td>It's New Years Eve, i'm a 22 year old male try...</td>\n",
       "      <td>reddit.com/r/UpliftingNews</td>\n",
       "      <td>NaN</td>\n",
       "      <td>1.0</td>\n",
       "      <td>0.0</td>\n",
       "      <td>default</td>\n",
       "      <td>0.183442</td>\n",
       "    </tr>\n",
       "    <tr>\n",
       "      <th>954</th>\n",
       "      <td>A friend of mine witnessed an act of incredibl...</td>\n",
       "      <td>http://imgur.com/CgkRP</td>\n",
       "      <td>2013-01-01</td>\n",
       "      <td>A friend of mine witnessed an act of incredibl...</td>\n",
       "      <td>reddit.com/r/UpliftingNews</td>\n",
       "      <td>NaN</td>\n",
       "      <td>1365.0</td>\n",
       "      <td>37.0</td>\n",
       "      <td>http://d.thumbs.redditmedia.com/AiOVoLUsH0NLia...</td>\n",
       "      <td>0.900000</td>\n",
       "    </tr>\n",
       "    <tr>\n",
       "      <th>955</th>\n",
       "      <td>Whenever she feels that her grief for her daug...</td>\n",
       "      <td>http://www.dailymail.co.uk/health/article-2255...</td>\n",
       "      <td>2013-01-01</td>\n",
       "      <td>When Lindsey's daughter died, her organs saved...</td>\n",
       "      <td>reddit.com/r/UpliftingNews</td>\n",
       "      <td>NaN</td>\n",
       "      <td>65.0</td>\n",
       "      <td>5.0</td>\n",
       "      <td>http://a.thumbs.redditmedia.com/rCSRYYHULtAWfl...</td>\n",
       "      <td>0.096090</td>\n",
       "    </tr>\n",
       "    <tr>\n",
       "      <th>956</th>\n",
       "      <td>Fisherman Saved by Boy</td>\n",
       "      <td>http://www.stuff.co.nz/national/8130529/The-bo...</td>\n",
       "      <td>2013-01-01</td>\n",
       "      <td>Two 12 year-old boys, Will White and Sergio Sc...</td>\n",
       "      <td>reddit.com/r/UpliftingNews</td>\n",
       "      <td>NaN</td>\n",
       "      <td>26.0</td>\n",
       "      <td>1.0</td>\n",
       "      <td>default</td>\n",
       "      <td>0.123188</td>\n",
       "    </tr>\n",
       "    <tr>\n",
       "      <th>957</th>\n",
       "      <td>Sergeant First Class Eric Pazz Surprises Wife,...</td>\n",
       "      <td>http://www.huffingtonpost.com/2013/01/01/eric-...</td>\n",
       "      <td>2013-01-01</td>\n",
       "      <td>PASADENA, Calif. -- The best moment of the 201...</td>\n",
       "      <td>reddit.com/r/UpliftingNews</td>\n",
       "      <td>NaN</td>\n",
       "      <td>26.0</td>\n",
       "      <td>0.0</td>\n",
       "      <td>default</td>\n",
       "      <td>0.060542</td>\n",
       "    </tr>\n",
       "    <tr>\n",
       "      <th>...</th>\n",
       "      <td>...</td>\n",
       "      <td>...</td>\n",
       "      <td>...</td>\n",
       "      <td>...</td>\n",
       "      <td>...</td>\n",
       "      <td>...</td>\n",
       "      <td>...</td>\n",
       "      <td>...</td>\n",
       "      <td>...</td>\n",
       "      <td>...</td>\n",
       "    </tr>\n",
       "    <tr>\n",
       "      <th>4361</th>\n",
       "      <td>NIPER Recruitment 2018 – Teaching &amp;amp; Non Te...</td>\n",
       "      <td>http://www.sarkariformadda.com/niper-recruitme...</td>\n",
       "      <td>2019-12-01</td>\n",
       "      <td>National Institute of Pharmaceutical Education...</td>\n",
       "      <td>reddit.com/r/UpliftingNews</td>\n",
       "      <td>NaN</td>\n",
       "      <td>1.0</td>\n",
       "      <td>0.0</td>\n",
       "      <td>default</td>\n",
       "      <td>0.081250</td>\n",
       "    </tr>\n",
       "    <tr>\n",
       "      <th>4363</th>\n",
       "      <td>Pretty cool right guys?</td>\n",
       "      <td>https://v.redd.it/1b1oylmm75241</td>\n",
       "      <td>2019-12-01</td>\n",
       "      <td>Sorry, this post has been removed by the moder...</td>\n",
       "      <td>reddit.com/r/UpliftingNews</td>\n",
       "      <td>NaN</td>\n",
       "      <td>1.0</td>\n",
       "      <td>0.0</td>\n",
       "      <td>default</td>\n",
       "      <td>0.116667</td>\n",
       "    </tr>\n",
       "    <tr>\n",
       "      <th>4364</th>\n",
       "      <td>Cuba found to be the most sustainably develope...</td>\n",
       "      <td>https://morningstaronline.co.uk/article/w/cuba...</td>\n",
       "      <td>2019-12-01</td>\n",
       "      <td>CUBA is the most sustainably developed country...</td>\n",
       "      <td>reddit.com/r/UpliftingNews</td>\n",
       "      <td>NaN</td>\n",
       "      <td>1.0</td>\n",
       "      <td>5.0</td>\n",
       "      <td>https://b.thumbs.redditmedia.com/hDwEWmU399dVs...</td>\n",
       "      <td>0.182283</td>\n",
       "    </tr>\n",
       "    <tr>\n",
       "      <th>4365</th>\n",
       "      <td>Compassionate Restaurant Sets Up \"Take One Lea...</td>\n",
       "      <td>https://understandingcompassion.com/compassion...</td>\n",
       "      <td>2019-12-01</td>\n",
       "      <td>Winter is not an easy time for the homeless, a...</td>\n",
       "      <td>reddit.com/r/UpliftingNews</td>\n",
       "      <td>NaN</td>\n",
       "      <td>1.0</td>\n",
       "      <td>0.0</td>\n",
       "      <td>default</td>\n",
       "      <td>0.261244</td>\n",
       "    </tr>\n",
       "    <tr>\n",
       "      <th>4366</th>\n",
       "      <td>A tiny Colorado town opened its arms to over 7...</td>\n",
       "      <td>https://www.denverpost.com/2019/12/01/colorado...</td>\n",
       "      <td>2019-12-01</td>\n",
       "      <td>When the emergency shelter in Fairplay ran out...</td>\n",
       "      <td>reddit.com/r/UpliftingNews</td>\n",
       "      <td>NaN</td>\n",
       "      <td>1.0</td>\n",
       "      <td>14.0</td>\n",
       "      <td>default</td>\n",
       "      <td>0.082370</td>\n",
       "    </tr>\n",
       "  </tbody>\n",
       "</table>\n",
       "<p>2544 rows × 10 columns</p>\n",
       "</div>"
      ],
      "text/plain": [
       "                                                  title  \\\n",
       "953   Lonely redditor shares phone number, reddit se...   \n",
       "954   A friend of mine witnessed an act of incredibl...   \n",
       "955   Whenever she feels that her grief for her daug...   \n",
       "956                             Fisherman Saved by Boy    \n",
       "957   Sergeant First Class Eric Pazz Surprises Wife,...   \n",
       "...                                                 ...   \n",
       "4361  NIPER Recruitment 2018 – Teaching &amp; Non Te...   \n",
       "4363                            Pretty cool right guys?   \n",
       "4364  Cuba found to be the most sustainably develope...   \n",
       "4365  Compassionate Restaurant Sets Up \"Take One Lea...   \n",
       "4366  A tiny Colorado town opened its arms to over 7...   \n",
       "\n",
       "                                                    url       date  \\\n",
       "953   http://www.reddit.com/r/offmychest/comments/15... 2013-01-01   \n",
       "954                              http://imgur.com/CgkRP 2013-01-01   \n",
       "955   http://www.dailymail.co.uk/health/article-2255... 2013-01-01   \n",
       "956   http://www.stuff.co.nz/national/8130529/The-bo... 2013-01-01   \n",
       "957   http://www.huffingtonpost.com/2013/01/01/eric-... 2013-01-01   \n",
       "...                                                 ...        ...   \n",
       "4361  http://www.sarkariformadda.com/niper-recruitme... 2019-12-01   \n",
       "4363                    https://v.redd.it/1b1oylmm75241 2019-12-01   \n",
       "4364  https://morningstaronline.co.uk/article/w/cuba... 2019-12-01   \n",
       "4365  https://understandingcompassion.com/compassion... 2019-12-01   \n",
       "4366  https://www.denverpost.com/2019/12/01/colorado... 2019-12-01   \n",
       "\n",
       "                                             transcript  \\\n",
       "953   It's New Years Eve, i'm a 22 year old male try...   \n",
       "954   A friend of mine witnessed an act of incredibl...   \n",
       "955   When Lindsey's daughter died, her organs saved...   \n",
       "956   Two 12 year-old boys, Will White and Sergio Sc...   \n",
       "957   PASADENA, Calif. -- The best moment of the 201...   \n",
       "...                                                 ...   \n",
       "4361  National Institute of Pharmaceutical Education...   \n",
       "4363  Sorry, this post has been removed by the moder...   \n",
       "4364  CUBA is the most sustainably developed country...   \n",
       "4365  Winter is not an easy time for the homeless, a...   \n",
       "4366  When the emergency shelter in Fairplay ran out...   \n",
       "\n",
       "                          source subtitle   score  comments  \\\n",
       "953   reddit.com/r/UpliftingNews      NaN     1.0       0.0   \n",
       "954   reddit.com/r/UpliftingNews      NaN  1365.0      37.0   \n",
       "955   reddit.com/r/UpliftingNews      NaN    65.0       5.0   \n",
       "956   reddit.com/r/UpliftingNews      NaN    26.0       1.0   \n",
       "957   reddit.com/r/UpliftingNews      NaN    26.0       0.0   \n",
       "...                          ...      ...     ...       ...   \n",
       "4361  reddit.com/r/UpliftingNews      NaN     1.0       0.0   \n",
       "4363  reddit.com/r/UpliftingNews      NaN     1.0       0.0   \n",
       "4364  reddit.com/r/UpliftingNews      NaN     1.0       5.0   \n",
       "4365  reddit.com/r/UpliftingNews      NaN     1.0       0.0   \n",
       "4366  reddit.com/r/UpliftingNews      NaN     1.0      14.0   \n",
       "\n",
       "                                              thumbnail  polarity  \n",
       "953                                             default  0.183442  \n",
       "954   http://d.thumbs.redditmedia.com/AiOVoLUsH0NLia...  0.900000  \n",
       "955   http://a.thumbs.redditmedia.com/rCSRYYHULtAWfl...  0.096090  \n",
       "956                                             default  0.123188  \n",
       "957                                             default  0.060542  \n",
       "...                                                 ...       ...  \n",
       "4361                                            default  0.081250  \n",
       "4363                                            default  0.116667  \n",
       "4364  https://b.thumbs.redditmedia.com/hDwEWmU399dVs...  0.182283  \n",
       "4365                                            default  0.261244  \n",
       "4366                                            default  0.082370  \n",
       "\n",
       "[2544 rows x 10 columns]"
      ]
     },
     "execution_count": 197,
     "metadata": {},
     "output_type": "execute_result"
    }
   ],
   "source": [
    "df_reddit[df_reddit['polarity'] > df_reddit['polarity'].describe()['25%']]"
   ]
  },
  {
   "cell_type": "markdown",
   "metadata": {},
   "source": [
    "___"
   ]
  },
  {
   "cell_type": "code",
   "execution_count": 198,
   "metadata": {},
   "outputs": [],
   "source": [
    "df_final['polarity'] = df_final['transcript'].apply(calculate_polarity)"
   ]
  },
  {
   "cell_type": "code",
   "execution_count": 199,
   "metadata": {},
   "outputs": [],
   "source": [
    "df_final.to_json('app/irsystem/data/final_data_url_polarity.json', orient='records')"
   ]
  },
  {
   "cell_type": "code",
   "execution_count": 201,
   "metadata": {},
   "outputs": [],
   "source": [
    "df_final_filtered = df_final[df_final['polarity'] > 0]"
   ]
  },
  {
   "cell_type": "code",
   "execution_count": 203,
   "metadata": {},
   "outputs": [],
   "source": [
    "df_final_filtered.to_json('app/irsystem/data/final_data_url_polarity_filtered.json', orient='records')"
   ]
  },
  {
   "cell_type": "markdown",
   "metadata": {},
   "source": [
    "___"
   ]
  }
 ],
 "metadata": {
  "kernelspec": {
   "display_name": "Python 3",
   "language": "python",
   "name": "python3"
  },
  "language_info": {
   "codemirror_mode": {
    "name": "ipython",
    "version": 3
   },
   "file_extension": ".py",
   "mimetype": "text/x-python",
   "name": "python",
   "nbconvert_exporter": "python",
   "pygments_lexer": "ipython3",
   "version": "3.7.6"
  }
 },
 "nbformat": 4,
 "nbformat_minor": 2
}
