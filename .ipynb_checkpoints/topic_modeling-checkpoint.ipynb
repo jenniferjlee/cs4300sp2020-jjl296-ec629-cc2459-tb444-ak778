{
 "cells": [
  {
   "cell_type": "code",
   "execution_count": 1,
   "metadata": {},
   "outputs": [],
   "source": [
    "# !pip install gensim"
   ]
  },
  {
   "cell_type": "code",
   "execution_count": 2,
   "metadata": {},
   "outputs": [
    {
     "name": "stderr",
     "output_type": "stream",
     "text": [
      "[nltk_data] Error loading wordnet: <urlopen error [SSL:\n",
      "[nltk_data]     CERTIFICATE_VERIFY_FAILED] certificate verify failed:\n",
      "[nltk_data]     unable to get local issuer certificate (_ssl.c:1076)>\n"
     ]
    },
    {
     "data": {
      "text/plain": [
       "False"
      ]
     },
     "execution_count": 2,
     "metadata": {},
     "output_type": "execute_result"
    }
   ],
   "source": [
    "import nltk\n",
    "nltk.download('wordnet')"
   ]
  },
  {
   "cell_type": "code",
   "execution_count": 3,
   "metadata": {},
   "outputs": [
    {
     "name": "stderr",
     "output_type": "stream",
     "text": [
      "unable to import 'smart_open.gcs', disabling that module\n"
     ]
    }
   ],
   "source": [
    "import pandas as pd\n",
    "import numpy as np\n",
    "import gensim\n",
    "from gensim.utils import simple_preprocess\n",
    "from gensim.parsing.preprocessing import STOPWORDS\n",
    "from nltk.stem import WordNetLemmatizer, SnowballStemmer\n",
    "from nltk.stem.porter import *"
   ]
  },
  {
   "cell_type": "markdown",
   "metadata": {},
   "source": [
    "___"
   ]
  },
  {
   "cell_type": "code",
   "execution_count": 4,
   "metadata": {},
   "outputs": [],
   "source": [
    "df = pd.read_json('app/irsystem/data/final_data_url_polarity_filtered.json')"
   ]
  },
  {
   "cell_type": "code",
   "execution_count": 5,
   "metadata": {},
   "outputs": [
    {
     "data": {
      "text/html": [
       "<div>\n",
       "<style scoped>\n",
       "    .dataframe tbody tr th:only-of-type {\n",
       "        vertical-align: middle;\n",
       "    }\n",
       "\n",
       "    .dataframe tbody tr th {\n",
       "        vertical-align: top;\n",
       "    }\n",
       "\n",
       "    .dataframe thead th {\n",
       "        text-align: right;\n",
       "    }\n",
       "</style>\n",
       "<table border=\"1\" class=\"dataframe\">\n",
       "  <thead>\n",
       "    <tr style=\"text-align: right;\">\n",
       "      <th></th>\n",
       "      <th>title</th>\n",
       "      <th>url</th>\n",
       "      <th>date</th>\n",
       "      <th>transcript</th>\n",
       "      <th>source</th>\n",
       "      <th>subtitle</th>\n",
       "      <th>score</th>\n",
       "      <th>comments</th>\n",
       "      <th>thumbnail</th>\n",
       "      <th>polarity</th>\n",
       "    </tr>\n",
       "  </thead>\n",
       "  <tbody>\n",
       "    <tr>\n",
       "      <th>0</th>\n",
       "      <td>16-Year-Old Has Been Using His Flying Lessons ...</td>\n",
       "      <td>https://www.goodnewsnetwork.org/teen-flies-sup...</td>\n",
       "      <td>2020-04-09</td>\n",
       "      <td>16-year-old TJ Kim may not have his driver’s l...</td>\n",
       "      <td>goodnewsnetwork.org</td>\n",
       "      <td>None</td>\n",
       "      <td>NaN</td>\n",
       "      <td>NaN</td>\n",
       "      <td>None</td>\n",
       "      <td>0.214592</td>\n",
       "    </tr>\n",
       "    <tr>\n",
       "      <th>1</th>\n",
       "      <td>Tyler Perry Picks Up the Tab for All Groceries...</td>\n",
       "      <td>https://www.goodnewsnetwork.org/tyler-perry-pa...</td>\n",
       "      <td>2020-04-09</td>\n",
       "      <td>It’s not uncommon for movie mogul Tyler Perry ...</td>\n",
       "      <td>goodnewsnetwork.org</td>\n",
       "      <td>None</td>\n",
       "      <td>NaN</td>\n",
       "      <td>NaN</td>\n",
       "      <td>None</td>\n",
       "      <td>0.234015</td>\n",
       "    </tr>\n",
       "  </tbody>\n",
       "</table>\n",
       "</div>"
      ],
      "text/plain": [
       "                                               title  \\\n",
       "0  16-Year-Old Has Been Using His Flying Lessons ...   \n",
       "1  Tyler Perry Picks Up the Tab for All Groceries...   \n",
       "\n",
       "                                                 url       date  \\\n",
       "0  https://www.goodnewsnetwork.org/teen-flies-sup... 2020-04-09   \n",
       "1  https://www.goodnewsnetwork.org/tyler-perry-pa... 2020-04-09   \n",
       "\n",
       "                                          transcript               source  \\\n",
       "0  16-year-old TJ Kim may not have his driver’s l...  goodnewsnetwork.org   \n",
       "1  It’s not uncommon for movie mogul Tyler Perry ...  goodnewsnetwork.org   \n",
       "\n",
       "  subtitle  score  comments thumbnail  polarity  \n",
       "0     None    NaN       NaN      None  0.214592  \n",
       "1     None    NaN       NaN      None  0.234015  "
      ]
     },
     "execution_count": 5,
     "metadata": {},
     "output_type": "execute_result"
    }
   ],
   "source": [
    "df.head(2)"
   ]
  },
  {
   "cell_type": "code",
   "execution_count": 6,
   "metadata": {},
   "outputs": [],
   "source": [
    "transcripts = list(df['transcript'])"
   ]
  },
  {
   "cell_type": "markdown",
   "metadata": {},
   "source": [
    "____"
   ]
  },
  {
   "cell_type": "code",
   "execution_count": 7,
   "metadata": {},
   "outputs": [],
   "source": [
    "stemmer = SnowballStemmer(\"english\")\n",
    "def tokenize_lemmatize(d):\n",
    "    final_tokens = []\n",
    "    for token in simple_preprocess(d) :\n",
    "        if token not in STOPWORDS and len(token) > 3:\n",
    "            final_tokens.append(stemmer.stem(WordNetLemmatizer().lemmatize(token, pos='v')))\n",
    "    return final_tokens"
   ]
  },
  {
   "cell_type": "code",
   "execution_count": 8,
   "metadata": {},
   "outputs": [],
   "source": [
    "processed_transcripts = []\n",
    "for t in transcripts:\n",
    "    processed_transcripts.append(tokenize_lemmatize(t))"
   ]
  },
  {
   "cell_type": "markdown",
   "metadata": {},
   "source": [
    "___"
   ]
  },
  {
   "cell_type": "code",
   "execution_count": 9,
   "metadata": {},
   "outputs": [],
   "source": [
    "dictionary = gensim.corpora.Dictionary(processed_transcripts)"
   ]
  },
  {
   "cell_type": "code",
   "execution_count": 10,
   "metadata": {},
   "outputs": [],
   "source": [
    "dictionary.filter_extremes(no_below = 10, no_above= 0.8)"
   ]
  },
  {
   "cell_type": "code",
   "execution_count": 11,
   "metadata": {},
   "outputs": [],
   "source": [
    "bow = [dictionary.doc2bow(t) for t in processed_transcripts]"
   ]
  },
  {
   "cell_type": "markdown",
   "metadata": {},
   "source": [
    "____"
   ]
  },
  {
   "cell_type": "code",
   "execution_count": 194,
   "metadata": {},
   "outputs": [],
   "source": [
    "number_topics = 3"
   ]
  },
  {
   "cell_type": "code",
   "execution_count": 195,
   "metadata": {},
   "outputs": [],
   "source": [
    "lda_model =  gensim.models.LdaMulticore(bow, num_topics = number_topics, id2word = dictionary, passes = 15, workers = 2)"
   ]
  },
  {
   "cell_type": "code",
   "execution_count": 196,
   "metadata": {},
   "outputs": [],
   "source": [
    "lda_model.save('lda_topicmodeling.model')"
   ]
  },
  {
   "cell_type": "code",
   "execution_count": 197,
   "metadata": {},
   "outputs": [
    {
     "data": {
      "text/plain": [
       "[(0,\n",
       "  '0.012*\"say\" + 0.010*\"peopl\" + 0.009*\"year\" + 0.006*\"work\" + 0.006*\"time\" + 0.004*\"world\" + 0.004*\"like\" + 0.004*\"countri\" + 0.004*\"state\" + 0.004*\"help\" + 0.004*\"citi\" + 0.004*\"communiti\" + 0.004*\"come\" + 0.003*\"week\" + 0.003*\"school\"'),\n",
       " (1,\n",
       "  '0.008*\"market\" + 0.008*\"say\" + 0.006*\"product\" + 0.006*\"year\" + 0.005*\"compani\" + 0.005*\"world\" + 0.004*\"research\" + 0.004*\"global\" + 0.004*\"busi\" + 0.004*\"report\" + 0.004*\"need\" + 0.004*\"like\" + 0.004*\"chang\" + 0.004*\"peopl\" + 0.004*\"water\"'),\n",
       " (2,\n",
       "  '0.023*\"say\" + 0.009*\"year\" + 0.007*\"time\" + 0.007*\"peopl\" + 0.007*\"like\" + 0.006*\"tell\" + 0.006*\"know\" + 0.006*\"go\" + 0.006*\"help\" + 0.005*\"life\" + 0.005*\"come\" + 0.005*\"think\" + 0.005*\"famili\" + 0.004*\"want\" + 0.004*\"work\"')]"
      ]
     },
     "execution_count": 197,
     "metadata": {},
     "output_type": "execute_result"
    }
   ],
   "source": [
    "lda_model.print_topics(number_topics, num_words=15) "
   ]
  },
  {
   "cell_type": "markdown",
   "metadata": {},
   "source": [
    "____"
   ]
  },
  {
   "cell_type": "code",
   "execution_count": 198,
   "metadata": {},
   "outputs": [],
   "source": [
    "transcripts_vectors = []\n",
    "\n",
    "for t in range(len(bow)):\n",
    "    topic_strengths = lda_model.get_document_topics(bow[t], minimum_probability=0.0)\n",
    "    transcripts_vectors.append([topic_strengths[i][1] for i in range(number_topics)])"
   ]
  },
  {
   "cell_type": "code",
   "execution_count": 199,
   "metadata": {},
   "outputs": [],
   "source": [
    "transcripts_vectors = pd.Series(transcripts_vectors)\n",
    "df['transcript_vector'] = transcripts_vectors.values"
   ]
  },
  {
   "cell_type": "code",
   "execution_count": 200,
   "metadata": {},
   "outputs": [],
   "source": [
    "def max_value(row):\n",
    "    return max(row['transcript_vector'])\n",
    "\n",
    "df['topic_strength'] = df.apply(max_value, axis = 1)"
   ]
  },
  {
   "cell_type": "code",
   "execution_count": 201,
   "metadata": {},
   "outputs": [],
   "source": [
    "def determine_topic(row):\n",
    "    return row['transcript_vector'].index(row['topic_strength'])\n",
    "\n",
    "df['topic'] = df.apply(determine_topic, axis = 1)"
   ]
  },
  {
   "cell_type": "code",
   "execution_count": 204,
   "metadata": {},
   "outputs": [],
   "source": [
    "df[df['topic_strength'] > 0.75][df[df['topic_strength'] > 0.75]['topic'] == 2].to_csv('topic_sample.csv')"
   ]
  },
  {
   "cell_type": "code",
   "execution_count": 178,
   "metadata": {},
   "outputs": [],
   "source": [
    "topics_dict = {\n",
    "    0: 'Markets & Healthcare'\n",
    "    1: 'Community',\n",
    "    2: 'Environment'\n",
    "}"
   ]
  },
  {
   "cell_type": "code",
   "execution_count": 179,
   "metadata": {},
   "outputs": [],
   "source": [
    "def assign_topic_name(row):\n",
    "    return topics_dict[row]\n",
    "\n",
    "df['topic_name'] = df['topic'].apply(assign_topic_name)"
   ]
  },
  {
   "cell_type": "code",
   "execution_count": 180,
   "metadata": {},
   "outputs": [
    {
     "data": {
      "text/html": [
       "<div>\n",
       "<style scoped>\n",
       "    .dataframe tbody tr th:only-of-type {\n",
       "        vertical-align: middle;\n",
       "    }\n",
       "\n",
       "    .dataframe tbody tr th {\n",
       "        vertical-align: top;\n",
       "    }\n",
       "\n",
       "    .dataframe thead th {\n",
       "        text-align: right;\n",
       "    }\n",
       "</style>\n",
       "<table border=\"1\" class=\"dataframe\">\n",
       "  <thead>\n",
       "    <tr style=\"text-align: right;\">\n",
       "      <th></th>\n",
       "      <th>title</th>\n",
       "      <th>url</th>\n",
       "      <th>date</th>\n",
       "      <th>transcript</th>\n",
       "      <th>source</th>\n",
       "      <th>subtitle</th>\n",
       "      <th>score</th>\n",
       "      <th>comments</th>\n",
       "      <th>thumbnail</th>\n",
       "      <th>polarity</th>\n",
       "      <th>transcript_vector</th>\n",
       "      <th>topic_strength</th>\n",
       "      <th>topic</th>\n",
       "      <th>topic_name</th>\n",
       "    </tr>\n",
       "  </thead>\n",
       "  <tbody>\n",
       "    <tr>\n",
       "      <th>0</th>\n",
       "      <td>16-Year-Old Has Been Using His Flying Lessons ...</td>\n",
       "      <td>https://www.goodnewsnetwork.org/teen-flies-sup...</td>\n",
       "      <td>2020-04-09</td>\n",
       "      <td>16-year-old TJ Kim may not have his driver’s l...</td>\n",
       "      <td>goodnewsnetwork.org</td>\n",
       "      <td>None</td>\n",
       "      <td>NaN</td>\n",
       "      <td>NaN</td>\n",
       "      <td>None</td>\n",
       "      <td>0.214592</td>\n",
       "      <td>[0.1778792, 0.8191677, 0.0029530802]</td>\n",
       "      <td>0.819168</td>\n",
       "      <td>1</td>\n",
       "      <td>Community</td>\n",
       "    </tr>\n",
       "    <tr>\n",
       "      <th>1</th>\n",
       "      <td>Tyler Perry Picks Up the Tab for All Groceries...</td>\n",
       "      <td>https://www.goodnewsnetwork.org/tyler-perry-pa...</td>\n",
       "      <td>2020-04-09</td>\n",
       "      <td>It’s not uncommon for movie mogul Tyler Perry ...</td>\n",
       "      <td>goodnewsnetwork.org</td>\n",
       "      <td>None</td>\n",
       "      <td>NaN</td>\n",
       "      <td>NaN</td>\n",
       "      <td>None</td>\n",
       "      <td>0.234015</td>\n",
       "      <td>[0.0032305294, 0.9938489, 0.0029205207]</td>\n",
       "      <td>0.993849</td>\n",
       "      <td>1</td>\n",
       "      <td>Community</td>\n",
       "    </tr>\n",
       "    <tr>\n",
       "      <th>2</th>\n",
       "      <td>Taking Hot Baths Every Day is Linked to Lower ...</td>\n",
       "      <td>https://www.goodnewsnetwork.org/daily-hot-bath...</td>\n",
       "      <td>2020-04-08</td>\n",
       "      <td>Regular tub bathing is linked to a lower risk ...</td>\n",
       "      <td>goodnewsnetwork.org</td>\n",
       "      <td>None</td>\n",
       "      <td>NaN</td>\n",
       "      <td>NaN</td>\n",
       "      <td>None</td>\n",
       "      <td>0.148219</td>\n",
       "      <td>[0.99768466, 0.0011600285, 0.001155278]</td>\n",
       "      <td>0.997685</td>\n",
       "      <td>0</td>\n",
       "      <td>Markets &amp; Healthcare</td>\n",
       "    </tr>\n",
       "    <tr>\n",
       "      <th>3</th>\n",
       "      <td>Watch Farmer Use His Tractor to Plow Massive T...</td>\n",
       "      <td>https://www.goodnewsnetwork.org/farmer-plows-t...</td>\n",
       "      <td>2020-04-08</td>\n",
       "      <td>A talented farmer has created his own heartwar...</td>\n",
       "      <td>goodnewsnetwork.org</td>\n",
       "      <td>None</td>\n",
       "      <td>NaN</td>\n",
       "      <td>NaN</td>\n",
       "      <td>None</td>\n",
       "      <td>0.220596</td>\n",
       "      <td>[0.062196095, 0.8689747, 0.06882924]</td>\n",
       "      <td>0.868975</td>\n",
       "      <td>1</td>\n",
       "      <td>Community</td>\n",
       "    </tr>\n",
       "    <tr>\n",
       "      <th>4</th>\n",
       "      <td>3 Ways to Deal With the Anxiety of a New Situa...</td>\n",
       "      <td>https://www.goodnewsnetwork.org/dr-brene-brown...</td>\n",
       "      <td>2020-04-08</td>\n",
       "      <td>The Lesson: If you have been stressing out ami...</td>\n",
       "      <td>goodnewsnetwork.org</td>\n",
       "      <td>None</td>\n",
       "      <td>NaN</td>\n",
       "      <td>NaN</td>\n",
       "      <td>None</td>\n",
       "      <td>0.056203</td>\n",
       "      <td>[0.19908638, 0.79841065, 0.0025029397]</td>\n",
       "      <td>0.798411</td>\n",
       "      <td>1</td>\n",
       "      <td>Community</td>\n",
       "    </tr>\n",
       "    <tr>\n",
       "      <th>...</th>\n",
       "      <td>...</td>\n",
       "      <td>...</td>\n",
       "      <td>...</td>\n",
       "      <td>...</td>\n",
       "      <td>...</td>\n",
       "      <td>...</td>\n",
       "      <td>...</td>\n",
       "      <td>...</td>\n",
       "      <td>...</td>\n",
       "      <td>...</td>\n",
       "      <td>...</td>\n",
       "      <td>...</td>\n",
       "      <td>...</td>\n",
       "      <td>...</td>\n",
       "    </tr>\n",
       "    <tr>\n",
       "      <th>3458</th>\n",
       "      <td>NIPER Recruitment 2018 – Teaching &amp;amp; Non Te...</td>\n",
       "      <td>http://www.sarkariformadda.com/niper-recruitme...</td>\n",
       "      <td>2019-12-01</td>\n",
       "      <td>National Institute of Pharmaceutical Education...</td>\n",
       "      <td>reddit.com/r/UpliftingNews</td>\n",
       "      <td>None</td>\n",
       "      <td>1.0</td>\n",
       "      <td>0.0</td>\n",
       "      <td>default</td>\n",
       "      <td>0.081250</td>\n",
       "      <td>[0.99186206, 0.0041402387, 0.0039976714]</td>\n",
       "      <td>0.991862</td>\n",
       "      <td>0</td>\n",
       "      <td>Markets &amp; Healthcare</td>\n",
       "    </tr>\n",
       "    <tr>\n",
       "      <th>3459</th>\n",
       "      <td>Pretty cool right guys?</td>\n",
       "      <td>https://v.redd.it/1b1oylmm75241</td>\n",
       "      <td>2019-12-01</td>\n",
       "      <td>Sorry, this post has been removed by the moder...</td>\n",
       "      <td>reddit.com/r/UpliftingNews</td>\n",
       "      <td>None</td>\n",
       "      <td>1.0</td>\n",
       "      <td>0.0</td>\n",
       "      <td>default</td>\n",
       "      <td>0.116667</td>\n",
       "      <td>[0.537611, 0.44106087, 0.021328181]</td>\n",
       "      <td>0.537611</td>\n",
       "      <td>0</td>\n",
       "      <td>Markets &amp; Healthcare</td>\n",
       "    </tr>\n",
       "    <tr>\n",
       "      <th>3460</th>\n",
       "      <td>Cuba found to be the most sustainably develope...</td>\n",
       "      <td>https://morningstaronline.co.uk/article/w/cuba...</td>\n",
       "      <td>2019-12-01</td>\n",
       "      <td>CUBA is the most sustainably developed country...</td>\n",
       "      <td>reddit.com/r/UpliftingNews</td>\n",
       "      <td>None</td>\n",
       "      <td>1.0</td>\n",
       "      <td>5.0</td>\n",
       "      <td>https://b.thumbs.redditmedia.com/hDwEWmU399dVs...</td>\n",
       "      <td>0.182283</td>\n",
       "      <td>[0.78057945, 0.002036243, 0.21738428]</td>\n",
       "      <td>0.780579</td>\n",
       "      <td>0</td>\n",
       "      <td>Markets &amp; Healthcare</td>\n",
       "    </tr>\n",
       "    <tr>\n",
       "      <th>3461</th>\n",
       "      <td>Compassionate Restaurant Sets Up \"Take One Lea...</td>\n",
       "      <td>https://understandingcompassion.com/compassion...</td>\n",
       "      <td>2019-12-01</td>\n",
       "      <td>Winter is not an easy time for the homeless, a...</td>\n",
       "      <td>reddit.com/r/UpliftingNews</td>\n",
       "      <td>None</td>\n",
       "      <td>1.0</td>\n",
       "      <td>0.0</td>\n",
       "      <td>default</td>\n",
       "      <td>0.261244</td>\n",
       "      <td>[0.002064498, 0.8678735, 0.13006206]</td>\n",
       "      <td>0.867873</td>\n",
       "      <td>1</td>\n",
       "      <td>Community</td>\n",
       "    </tr>\n",
       "    <tr>\n",
       "      <th>3462</th>\n",
       "      <td>A tiny Colorado town opened its arms to over 7...</td>\n",
       "      <td>https://www.denverpost.com/2019/12/01/colorado...</td>\n",
       "      <td>2019-12-01</td>\n",
       "      <td>When the emergency shelter in Fairplay ran out...</td>\n",
       "      <td>reddit.com/r/UpliftingNews</td>\n",
       "      <td>None</td>\n",
       "      <td>1.0</td>\n",
       "      <td>14.0</td>\n",
       "      <td>default</td>\n",
       "      <td>0.082370</td>\n",
       "      <td>[0.0014678919, 0.80612475, 0.19240737]</td>\n",
       "      <td>0.806125</td>\n",
       "      <td>1</td>\n",
       "      <td>Community</td>\n",
       "    </tr>\n",
       "  </tbody>\n",
       "</table>\n",
       "<p>3463 rows × 14 columns</p>\n",
       "</div>"
      ],
      "text/plain": [
       "                                                  title  \\\n",
       "0     16-Year-Old Has Been Using His Flying Lessons ...   \n",
       "1     Tyler Perry Picks Up the Tab for All Groceries...   \n",
       "2     Taking Hot Baths Every Day is Linked to Lower ...   \n",
       "3     Watch Farmer Use His Tractor to Plow Massive T...   \n",
       "4     3 Ways to Deal With the Anxiety of a New Situa...   \n",
       "...                                                 ...   \n",
       "3458  NIPER Recruitment 2018 – Teaching &amp; Non Te...   \n",
       "3459                            Pretty cool right guys?   \n",
       "3460  Cuba found to be the most sustainably develope...   \n",
       "3461  Compassionate Restaurant Sets Up \"Take One Lea...   \n",
       "3462  A tiny Colorado town opened its arms to over 7...   \n",
       "\n",
       "                                                    url       date  \\\n",
       "0     https://www.goodnewsnetwork.org/teen-flies-sup... 2020-04-09   \n",
       "1     https://www.goodnewsnetwork.org/tyler-perry-pa... 2020-04-09   \n",
       "2     https://www.goodnewsnetwork.org/daily-hot-bath... 2020-04-08   \n",
       "3     https://www.goodnewsnetwork.org/farmer-plows-t... 2020-04-08   \n",
       "4     https://www.goodnewsnetwork.org/dr-brene-brown... 2020-04-08   \n",
       "...                                                 ...        ...   \n",
       "3458  http://www.sarkariformadda.com/niper-recruitme... 2019-12-01   \n",
       "3459                    https://v.redd.it/1b1oylmm75241 2019-12-01   \n",
       "3460  https://morningstaronline.co.uk/article/w/cuba... 2019-12-01   \n",
       "3461  https://understandingcompassion.com/compassion... 2019-12-01   \n",
       "3462  https://www.denverpost.com/2019/12/01/colorado... 2019-12-01   \n",
       "\n",
       "                                             transcript  \\\n",
       "0     16-year-old TJ Kim may not have his driver’s l...   \n",
       "1     It’s not uncommon for movie mogul Tyler Perry ...   \n",
       "2     Regular tub bathing is linked to a lower risk ...   \n",
       "3     A talented farmer has created his own heartwar...   \n",
       "4     The Lesson: If you have been stressing out ami...   \n",
       "...                                                 ...   \n",
       "3458  National Institute of Pharmaceutical Education...   \n",
       "3459  Sorry, this post has been removed by the moder...   \n",
       "3460  CUBA is the most sustainably developed country...   \n",
       "3461  Winter is not an easy time for the homeless, a...   \n",
       "3462  When the emergency shelter in Fairplay ran out...   \n",
       "\n",
       "                          source subtitle  score  comments  \\\n",
       "0            goodnewsnetwork.org     None    NaN       NaN   \n",
       "1            goodnewsnetwork.org     None    NaN       NaN   \n",
       "2            goodnewsnetwork.org     None    NaN       NaN   \n",
       "3            goodnewsnetwork.org     None    NaN       NaN   \n",
       "4            goodnewsnetwork.org     None    NaN       NaN   \n",
       "...                          ...      ...    ...       ...   \n",
       "3458  reddit.com/r/UpliftingNews     None    1.0       0.0   \n",
       "3459  reddit.com/r/UpliftingNews     None    1.0       0.0   \n",
       "3460  reddit.com/r/UpliftingNews     None    1.0       5.0   \n",
       "3461  reddit.com/r/UpliftingNews     None    1.0       0.0   \n",
       "3462  reddit.com/r/UpliftingNews     None    1.0      14.0   \n",
       "\n",
       "                                              thumbnail  polarity  \\\n",
       "0                                                  None  0.214592   \n",
       "1                                                  None  0.234015   \n",
       "2                                                  None  0.148219   \n",
       "3                                                  None  0.220596   \n",
       "4                                                  None  0.056203   \n",
       "...                                                 ...       ...   \n",
       "3458                                            default  0.081250   \n",
       "3459                                            default  0.116667   \n",
       "3460  https://b.thumbs.redditmedia.com/hDwEWmU399dVs...  0.182283   \n",
       "3461                                            default  0.261244   \n",
       "3462                                            default  0.082370   \n",
       "\n",
       "                             transcript_vector  topic_strength  topic  \\\n",
       "0         [0.1778792, 0.8191677, 0.0029530802]        0.819168      1   \n",
       "1      [0.0032305294, 0.9938489, 0.0029205207]        0.993849      1   \n",
       "2      [0.99768466, 0.0011600285, 0.001155278]        0.997685      0   \n",
       "3         [0.062196095, 0.8689747, 0.06882924]        0.868975      1   \n",
       "4       [0.19908638, 0.79841065, 0.0025029397]        0.798411      1   \n",
       "...                                        ...             ...    ...   \n",
       "3458  [0.99186206, 0.0041402387, 0.0039976714]        0.991862      0   \n",
       "3459       [0.537611, 0.44106087, 0.021328181]        0.537611      0   \n",
       "3460     [0.78057945, 0.002036243, 0.21738428]        0.780579      0   \n",
       "3461      [0.002064498, 0.8678735, 0.13006206]        0.867873      1   \n",
       "3462    [0.0014678919, 0.80612475, 0.19240737]        0.806125      1   \n",
       "\n",
       "                topic_name  \n",
       "0                Community  \n",
       "1                Community  \n",
       "2     Markets & Healthcare  \n",
       "3                Community  \n",
       "4                Community  \n",
       "...                    ...  \n",
       "3458  Markets & Healthcare  \n",
       "3459  Markets & Healthcare  \n",
       "3460  Markets & Healthcare  \n",
       "3461             Community  \n",
       "3462             Community  \n",
       "\n",
       "[3463 rows x 14 columns]"
      ]
     },
     "execution_count": 180,
     "metadata": {},
     "output_type": "execute_result"
    }
   ],
   "source": [
    "df"
   ]
  },
  {
   "cell_type": "code",
   "execution_count": 181,
   "metadata": {},
   "outputs": [],
   "source": [
    "df.to_csv('classified_articles.csv')"
   ]
  },
  {
   "cell_type": "markdown",
   "metadata": {},
   "source": [
    "___"
   ]
  },
  {
   "cell_type": "code",
   "execution_count": 207,
   "metadata": {},
   "outputs": [],
   "source": [
    "df = pd.read_csv('classified_articles.csv').drop('Unnamed: 0', axis = 1)"
   ]
  },
  {
   "cell_type": "code",
   "execution_count": 209,
   "metadata": {},
   "outputs": [],
   "source": [
    "df.to_json('app/irsystem/data/final_data_classified.json', orient='records')"
   ]
  },
  {
   "cell_type": "markdown",
   "metadata": {},
   "source": [
    "References: https://radimrehurek.com/gensim/models/ldamulticore.html, https://towardsdatascience.com/nlp-extracting-the-main-topics-from-your-dataset-using-lda-in-minutes-21486f5aa925, https://towardsdatascience.com/unsupervised-nlp-topic-models-as-a-supervised-learning-input-cf8ee9e5cf28"
   ]
  },
  {
   "cell_type": "markdown",
   "metadata": {},
   "source": [
    "____"
   ]
  }
 ],
 "metadata": {
  "kernelspec": {
   "display_name": "Python 3",
   "language": "python",
   "name": "python3"
  },
  "language_info": {
   "codemirror_mode": {
    "name": "ipython",
    "version": 3
   },
   "file_extension": ".py",
   "mimetype": "text/x-python",
   "name": "python",
   "nbconvert_exporter": "python",
   "pygments_lexer": "ipython3",
   "version": "3.7.6"
  }
 },
 "nbformat": 4,
 "nbformat_minor": 2
}
