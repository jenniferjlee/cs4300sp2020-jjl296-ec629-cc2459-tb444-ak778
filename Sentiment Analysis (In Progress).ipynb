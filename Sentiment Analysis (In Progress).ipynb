{
 "cells": [
  {
   "cell_type": "code",
   "execution_count": 34,
   "metadata": {},
   "outputs": [
    {
     "name": "stdout",
     "output_type": "stream",
     "text": [
      "Collecting textblob\n",
      "  Downloading textblob-0.15.3-py2.py3-none-any.whl (636 kB)\n",
      "\u001b[K     |████████████████████████████████| 636 kB 563 kB/s eta 0:00:01\n",
      "\u001b[?25hRequirement already satisfied: nltk>=3.1 in /Library/Frameworks/Python.framework/Versions/3.7/lib/python3.7/site-packages (from textblob) (3.4.5)\n",
      "Requirement already satisfied: six in /Library/Frameworks/Python.framework/Versions/3.7/lib/python3.7/site-packages (from nltk>=3.1->textblob) (1.11.0)\n",
      "Installing collected packages: textblob\n",
      "Successfully installed textblob-0.15.3\n"
     ]
    }
   ],
   "source": [
    "!pip install textblob"
   ]
  },
  {
   "cell_type": "code",
   "execution_count": 35,
   "metadata": {},
   "outputs": [],
   "source": [
    "import pandas as pd\n",
    "\n",
    "from textblob import TextBlob"
   ]
  },
  {
   "cell_type": "markdown",
   "metadata": {},
   "source": [
    "___"
   ]
  },
  {
   "cell_type": "markdown",
   "metadata": {},
   "source": [
    "To do: Pre-processing"
   ]
  },
  {
   "cell_type": "markdown",
   "metadata": {},
   "source": [
    "____"
   ]
  },
  {
   "cell_type": "code",
   "execution_count": 24,
   "metadata": {},
   "outputs": [],
   "source": [
    "df = pd.read_json('data/total_data_2.json')"
   ]
  },
  {
   "cell_type": "code",
   "execution_count": 25,
   "metadata": {},
   "outputs": [],
   "source": [
    "try:\n",
    "    df = df.drop('Unnamed: 0', axis = 1)\n",
    "except:\n",
    "    pass"
   ]
  },
  {
   "cell_type": "code",
   "execution_count": 27,
   "metadata": {},
   "outputs": [
    {
     "data": {
      "text/html": [
       "<div>\n",
       "<style scoped>\n",
       "    .dataframe tbody tr th:only-of-type {\n",
       "        vertical-align: middle;\n",
       "    }\n",
       "\n",
       "    .dataframe tbody tr th {\n",
       "        vertical-align: top;\n",
       "    }\n",
       "\n",
       "    .dataframe thead th {\n",
       "        text-align: right;\n",
       "    }\n",
       "</style>\n",
       "<table border=\"1\" class=\"dataframe\">\n",
       "  <thead>\n",
       "    <tr style=\"text-align: right;\">\n",
       "      <th></th>\n",
       "      <th>title</th>\n",
       "      <th>url</th>\n",
       "      <th>date</th>\n",
       "      <th>transcript</th>\n",
       "      <th>source</th>\n",
       "    </tr>\n",
       "  </thead>\n",
       "  <tbody>\n",
       "    <tr>\n",
       "      <th>0</th>\n",
       "      <td>16-Year-Old Has Been Using His Flying Lessons ...</td>\n",
       "      <td>https://www.goodnewsnetwork.org/teen-flies-sup...</td>\n",
       "      <td>2020-04-09</td>\n",
       "      <td>16-year-old TJ Kim may not have his driver’s l...</td>\n",
       "      <td>goodnewsnetwork.org</td>\n",
       "    </tr>\n",
       "    <tr>\n",
       "      <th>1</th>\n",
       "      <td>Tyler Perry Picks Up the Tab for All Groceries...</td>\n",
       "      <td>https://www.goodnewsnetwork.org/tyler-perry-pa...</td>\n",
       "      <td>2020-04-09</td>\n",
       "      <td>It’s not uncommon for movie mogul Tyler Perry ...</td>\n",
       "      <td>goodnewsnetwork.org</td>\n",
       "    </tr>\n",
       "  </tbody>\n",
       "</table>\n",
       "</div>"
      ],
      "text/plain": [
       "                                               title  \\\n",
       "0  16-Year-Old Has Been Using His Flying Lessons ...   \n",
       "1  Tyler Perry Picks Up the Tab for All Groceries...   \n",
       "\n",
       "                                                 url       date  \\\n",
       "0  https://www.goodnewsnetwork.org/teen-flies-sup... 2020-04-09   \n",
       "1  https://www.goodnewsnetwork.org/tyler-perry-pa... 2020-04-09   \n",
       "\n",
       "                                          transcript               source  \n",
       "0  16-year-old TJ Kim may not have his driver’s l...  goodnewsnetwork.org  \n",
       "1  It’s not uncommon for movie mogul Tyler Perry ...  goodnewsnetwork.org  "
      ]
     },
     "execution_count": 27,
     "metadata": {},
     "output_type": "execute_result"
    }
   ],
   "source": [
    "df.head(2)"
   ]
  },
  {
   "cell_type": "code",
   "execution_count": 38,
   "metadata": {},
   "outputs": [
    {
     "data": {
      "text/plain": [
       "'16-year-old TJ Kim may not have his driver’s license yet, but he has been flying planes all over Virginia in order to deliver medical supplies to rural hospitals fighting the novel coronavirus.\\n\\nThe teen, who is a sophomore at Landon School in Bethesda, Maryland, was inspired to embark on his delivery missions after his classes were canceled as a result of COVID-19.\\n\\nWithout school or lacrosse to occupy his time, he turned his focus on his flying lessons.\\n\\nRELATED: Man Uses His Savings to Fill Up Gas Tanks For Dozens of Nurses Heading to Nearby Hospital\\n\\nAccording to The Associated Press, Kim and his family then launched their Operation SOS (Supplies Over Skies) project as a means of keeping busy during the shutdowns while simultaneously serving others in need by delivering supplies to rural hospitals.\\n\\nWhen Kim first asked his flight instructor, Dave Powell, to use their flying lessons as delivery runs for Virginia hospitals, the pilot was awestruck.\\n\\nLOOK: College Student Has Been Sewing Free Face Masks For Communicating With Hearing-Impaired Folks\\n\\n“For TJ to be more concerned with the needs of others in his melancholy state just reiterated to me how amazing this young man is,” Powell told The AP.\\n\\nSince the young man delivered his first batch of medical gowns, masks, sanitizer, and shoe covers to a 25-bed hospital in Luray on March 27th, he has continued to go on weekly flights to other critical access hospitals—and the healthcare workers have greatly appreciated the support.\\n\\nThis is just one of many positive stories and updates that are coming out of the COVID-19 news coverage this week. For more uplifting coverage on the outbreaks, click here.\\n\\n(WATCH the interview below) – Feature photo by Thomas Kim\\n\\nFly This Inspiring Story Over To Your Friends By Sharing It To Social Media…'"
      ]
     },
     "execution_count": 38,
     "metadata": {},
     "output_type": "execute_result"
    }
   ],
   "source": [
    "df['transcript'][0]"
   ]
  },
  {
   "cell_type": "code",
   "execution_count": 48,
   "metadata": {},
   "outputs": [],
   "source": [
    "def calculate_polarity(row):\n",
    "    return TextBlob(row).sentiment.polarity\n",
    "    \n",
    "df['polarity'] = df['transcript'].apply(calculate_polarity)"
   ]
  },
  {
   "cell_type": "code",
   "execution_count": 50,
   "metadata": {},
   "outputs": [],
   "source": [
    "def calculate_subjectivity(row):\n",
    "    return TextBlob(row).sentiment.subjectivity\n",
    "    \n",
    "df['subjectivity'] = df['transcript'].apply(calculate_subjectivity)"
   ]
  },
  {
   "cell_type": "markdown",
   "metadata": {},
   "source": [
    "___"
   ]
  },
  {
   "cell_type": "code",
   "execution_count": 58,
   "metadata": {},
   "outputs": [
    {
     "data": {
      "text/html": [
       "<div>\n",
       "<style scoped>\n",
       "    .dataframe tbody tr th:only-of-type {\n",
       "        vertical-align: middle;\n",
       "    }\n",
       "\n",
       "    .dataframe tbody tr th {\n",
       "        vertical-align: top;\n",
       "    }\n",
       "\n",
       "    .dataframe thead th {\n",
       "        text-align: right;\n",
       "    }\n",
       "</style>\n",
       "<table border=\"1\" class=\"dataframe\">\n",
       "  <thead>\n",
       "    <tr style=\"text-align: right;\">\n",
       "      <th></th>\n",
       "      <th>polarity</th>\n",
       "      <th>subjectivity</th>\n",
       "    </tr>\n",
       "  </thead>\n",
       "  <tbody>\n",
       "    <tr>\n",
       "      <th>count</th>\n",
       "      <td>1062.000000</td>\n",
       "      <td>1062.000000</td>\n",
       "    </tr>\n",
       "    <tr>\n",
       "      <th>mean</th>\n",
       "      <td>0.135837</td>\n",
       "      <td>0.379028</td>\n",
       "    </tr>\n",
       "    <tr>\n",
       "      <th>std</th>\n",
       "      <td>0.178191</td>\n",
       "      <td>0.211292</td>\n",
       "    </tr>\n",
       "    <tr>\n",
       "      <th>min</th>\n",
       "      <td>-0.133333</td>\n",
       "      <td>0.000000</td>\n",
       "    </tr>\n",
       "    <tr>\n",
       "      <th>25%</th>\n",
       "      <td>0.041512</td>\n",
       "      <td>0.349414</td>\n",
       "    </tr>\n",
       "    <tr>\n",
       "      <th>50%</th>\n",
       "      <td>0.108415</td>\n",
       "      <td>0.431195</td>\n",
       "    </tr>\n",
       "    <tr>\n",
       "      <th>75%</th>\n",
       "      <td>0.171805</td>\n",
       "      <td>0.484475</td>\n",
       "    </tr>\n",
       "    <tr>\n",
       "      <th>max</th>\n",
       "      <td>1.000000</td>\n",
       "      <td>0.900000</td>\n",
       "    </tr>\n",
       "  </tbody>\n",
       "</table>\n",
       "</div>"
      ],
      "text/plain": [
       "          polarity  subjectivity\n",
       "count  1062.000000   1062.000000\n",
       "mean      0.135837      0.379028\n",
       "std       0.178191      0.211292\n",
       "min      -0.133333      0.000000\n",
       "25%       0.041512      0.349414\n",
       "50%       0.108415      0.431195\n",
       "75%       0.171805      0.484475\n",
       "max       1.000000      0.900000"
      ]
     },
     "execution_count": 58,
     "metadata": {},
     "output_type": "execute_result"
    }
   ],
   "source": [
    "df[['polarity', 'subjectivity']].describe()"
   ]
  },
  {
   "cell_type": "markdown",
   "metadata": {},
   "source": [
    "**Percentage of Articles with polarity `< 0`**"
   ]
  },
  {
   "cell_type": "code",
   "execution_count": 59,
   "metadata": {},
   "outputs": [
    {
     "data": {
      "text/plain": [
       "2.354048964218456"
      ]
     },
     "execution_count": 59,
     "metadata": {},
     "output_type": "execute_result"
    }
   ],
   "source": [
    "(len(df.loc[df['polarity'] < 0]) * 100)/len(df)"
   ]
  },
  {
   "cell_type": "code",
   "execution_count": 62,
   "metadata": {},
   "outputs": [
    {
     "data": {
      "text/plain": [
       "78.71939736346516"
      ]
     },
     "execution_count": 62,
     "metadata": {},
     "output_type": "execute_result"
    }
   ],
   "source": [
    "(len(df.loc[df['polarity'] > 0]) * 100)/len(df)"
   ]
  },
  {
   "cell_type": "markdown",
   "metadata": {},
   "source": [
    "___"
   ]
  }
 ],
 "metadata": {
  "kernelspec": {
   "display_name": "Python 3",
   "language": "python",
   "name": "python3"
  },
  "language_info": {
   "codemirror_mode": {
    "name": "ipython",
    "version": 3
   },
   "file_extension": ".py",
   "mimetype": "text/x-python",
   "name": "python",
   "nbconvert_exporter": "python",
   "pygments_lexer": "ipython3",
   "version": "3.7.6"
  }
 },
 "nbformat": 4,
 "nbformat_minor": 2
}
