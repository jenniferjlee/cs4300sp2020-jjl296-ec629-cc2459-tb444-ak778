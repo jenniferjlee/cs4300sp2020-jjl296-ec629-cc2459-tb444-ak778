{
 "cells": [
  {
   "cell_type": "code",
   "execution_count": 21,
   "metadata": {},
   "outputs": [],
   "source": [
    "import json\n",
    "import numpy as np \n",
    "import pandas as pd\n",
    "import scipy.stats as st\n",
    "import matplotlib.pyplot as plt"
   ]
  },
  {
   "cell_type": "code",
   "execution_count": 90,
   "metadata": {},
   "outputs": [],
   "source": [
    "with open('final_data_url.json') as json_file:\n",
    "    data = json.load(json_file)"
   ]
  },
  {
   "cell_type": "code",
   "execution_count": 3,
   "metadata": {},
   "outputs": [
    {
     "data": {
      "text/plain": [
       "dict_keys(['title', 'url', 'date', 'transcript', 'source'])"
      ]
     },
     "execution_count": 3,
     "metadata": {},
     "output_type": "execute_result"
    }
   ],
   "source": [
    "data[0].keys()"
   ]
  },
  {
   "cell_type": "code",
   "execution_count": 91,
   "metadata": {},
   "outputs": [],
   "source": [
    "df = pd.read_json('final_data_url.json', convert_dates=False)"
   ]
  },
  {
   "cell_type": "code",
   "execution_count": 92,
   "metadata": {},
   "outputs": [
    {
     "name": "stdout",
     "output_type": "stream",
     "text": [
      "Total Num Articles:  4367\n",
      "Total Missing Score:  953\n"
     ]
    }
   ],
   "source": [
    "print('Total Num Articles: ', len(df['score']))\n",
    "print('Total Missing Score: ', df['score'].isna().sum())"
   ]
  },
  {
   "cell_type": "code",
   "execution_count": 93,
   "metadata": {},
   "outputs": [
    {
     "name": "stdout",
     "output_type": "stream",
     "text": [
      "Total Num Articles:  4367\n",
      "Total Missing Comments:  953\n"
     ]
    }
   ],
   "source": [
    "print('Total Num Articles: ', len(df['score']))\n",
    "print('Total Missing Comments: ', df['comments'].isna().sum())"
   ]
  },
  {
   "cell_type": "code",
   "execution_count": 94,
   "metadata": {},
   "outputs": [
    {
     "data": {
      "text/html": [
       "<div>\n",
       "<style scoped>\n",
       "    .dataframe tbody tr th:only-of-type {\n",
       "        vertical-align: middle;\n",
       "    }\n",
       "\n",
       "    .dataframe tbody tr th {\n",
       "        vertical-align: top;\n",
       "    }\n",
       "\n",
       "    .dataframe thead th {\n",
       "        text-align: right;\n",
       "    }\n",
       "</style>\n",
       "<table border=\"1\" class=\"dataframe\">\n",
       "  <thead>\n",
       "    <tr style=\"text-align: right;\">\n",
       "      <th></th>\n",
       "      <th>title</th>\n",
       "      <th>url</th>\n",
       "      <th>date</th>\n",
       "      <th>transcript</th>\n",
       "      <th>source</th>\n",
       "      <th>subtitle</th>\n",
       "      <th>score</th>\n",
       "      <th>comments</th>\n",
       "      <th>thumbnail</th>\n",
       "    </tr>\n",
       "  </thead>\n",
       "  <tbody>\n",
       "    <tr>\n",
       "      <th>4362</th>\n",
       "      <td>What if all of the captive orcas, dolphins, an...</td>\n",
       "      <td>https://whalesanctuaryproject.org</td>\n",
       "      <td>2019-12-1</td>\n",
       "      <td></td>\n",
       "      <td>reddit.com/r/UpliftingNews</td>\n",
       "      <td>NaN</td>\n",
       "      <td>1.0</td>\n",
       "      <td>29.0</td>\n",
       "      <td>https://b.thumbs.redditmedia.com/FjthxilDx_L6d...</td>\n",
       "    </tr>\n",
       "    <tr>\n",
       "      <th>4363</th>\n",
       "      <td>Pretty cool right guys?</td>\n",
       "      <td>https://v.redd.it/1b1oylmm75241</td>\n",
       "      <td>2019-12-1</td>\n",
       "      <td>Sorry, this post has been removed by the moder...</td>\n",
       "      <td>reddit.com/r/UpliftingNews</td>\n",
       "      <td>NaN</td>\n",
       "      <td>1.0</td>\n",
       "      <td>0.0</td>\n",
       "      <td>default</td>\n",
       "    </tr>\n",
       "    <tr>\n",
       "      <th>4364</th>\n",
       "      <td>Cuba found to be the most sustainably develope...</td>\n",
       "      <td>https://morningstaronline.co.uk/article/w/cuba...</td>\n",
       "      <td>2019-12-1</td>\n",
       "      <td>CUBA is the most sustainably developed country...</td>\n",
       "      <td>reddit.com/r/UpliftingNews</td>\n",
       "      <td>NaN</td>\n",
       "      <td>1.0</td>\n",
       "      <td>5.0</td>\n",
       "      <td>https://b.thumbs.redditmedia.com/hDwEWmU399dVs...</td>\n",
       "    </tr>\n",
       "    <tr>\n",
       "      <th>4365</th>\n",
       "      <td>Compassionate Restaurant Sets Up \"Take One Lea...</td>\n",
       "      <td>https://understandingcompassion.com/compassion...</td>\n",
       "      <td>2019-12-1</td>\n",
       "      <td>Winter is not an easy time for the homeless, a...</td>\n",
       "      <td>reddit.com/r/UpliftingNews</td>\n",
       "      <td>NaN</td>\n",
       "      <td>1.0</td>\n",
       "      <td>0.0</td>\n",
       "      <td>default</td>\n",
       "    </tr>\n",
       "    <tr>\n",
       "      <th>4366</th>\n",
       "      <td>A tiny Colorado town opened its arms to over 7...</td>\n",
       "      <td>https://www.denverpost.com/2019/12/01/colorado...</td>\n",
       "      <td>2019-12-1</td>\n",
       "      <td>When the emergency shelter in Fairplay ran out...</td>\n",
       "      <td>reddit.com/r/UpliftingNews</td>\n",
       "      <td>NaN</td>\n",
       "      <td>1.0</td>\n",
       "      <td>14.0</td>\n",
       "      <td>default</td>\n",
       "    </tr>\n",
       "  </tbody>\n",
       "</table>\n",
       "</div>"
      ],
      "text/plain": [
       "                                                  title  \\\n",
       "4362  What if all of the captive orcas, dolphins, an...   \n",
       "4363                            Pretty cool right guys?   \n",
       "4364  Cuba found to be the most sustainably develope...   \n",
       "4365  Compassionate Restaurant Sets Up \"Take One Lea...   \n",
       "4366  A tiny Colorado town opened its arms to over 7...   \n",
       "\n",
       "                                                    url       date  \\\n",
       "4362                  https://whalesanctuaryproject.org  2019-12-1   \n",
       "4363                    https://v.redd.it/1b1oylmm75241  2019-12-1   \n",
       "4364  https://morningstaronline.co.uk/article/w/cuba...  2019-12-1   \n",
       "4365  https://understandingcompassion.com/compassion...  2019-12-1   \n",
       "4366  https://www.denverpost.com/2019/12/01/colorado...  2019-12-1   \n",
       "\n",
       "                                             transcript  \\\n",
       "4362                                                      \n",
       "4363  Sorry, this post has been removed by the moder...   \n",
       "4364  CUBA is the most sustainably developed country...   \n",
       "4365  Winter is not an easy time for the homeless, a...   \n",
       "4366  When the emergency shelter in Fairplay ran out...   \n",
       "\n",
       "                          source subtitle  score  comments  \\\n",
       "4362  reddit.com/r/UpliftingNews      NaN    1.0      29.0   \n",
       "4363  reddit.com/r/UpliftingNews      NaN    1.0       0.0   \n",
       "4364  reddit.com/r/UpliftingNews      NaN    1.0       5.0   \n",
       "4365  reddit.com/r/UpliftingNews      NaN    1.0       0.0   \n",
       "4366  reddit.com/r/UpliftingNews      NaN    1.0      14.0   \n",
       "\n",
       "                                              thumbnail  \n",
       "4362  https://b.thumbs.redditmedia.com/FjthxilDx_L6d...  \n",
       "4363                                            default  \n",
       "4364  https://b.thumbs.redditmedia.com/hDwEWmU399dVs...  \n",
       "4365                                            default  \n",
       "4366                                            default  "
      ]
     },
     "execution_count": 94,
     "metadata": {},
     "output_type": "execute_result"
    }
   ],
   "source": [
    "df.tail()"
   ]
  },
  {
   "cell_type": "code",
   "execution_count": 95,
   "metadata": {},
   "outputs": [
    {
     "name": "stderr",
     "output_type": "stream",
     "text": [
      "/opt/anaconda3/lib/python3.7/site-packages/numpy/lib/histograms.py:839: RuntimeWarning: invalid value encountered in greater_equal\n",
      "  keep = (tmp_a >= first_edge)\n",
      "/opt/anaconda3/lib/python3.7/site-packages/numpy/lib/histograms.py:840: RuntimeWarning: invalid value encountered in less_equal\n",
      "  keep &= (tmp_a <= last_edge)\n"
     ]
    },
    {
     "data": {
      "image/png": "[encoded data removed]",
      "text/plain": [
       "<Figure size 432x288 with 1 Axes>"
      ]
     },
     "metadata": {
      "needs_background": "light"
     },
     "output_type": "display_data"
    }
   ],
   "source": [
    "plt.hist(df['comments'])\n",
    "plt.show()"
   ]
  },
  {
   "cell_type": "code",
   "execution_count": 96,
   "metadata": {},
   "outputs": [
    {
     "data": {
      "text/html": [
       "<div>\n",
       "<style scoped>\n",
       "    .dataframe tbody tr th:only-of-type {\n",
       "        vertical-align: middle;\n",
       "    }\n",
       "\n",
       "    .dataframe tbody tr th {\n",
       "        vertical-align: top;\n",
       "    }\n",
       "\n",
       "    .dataframe thead th {\n",
       "        text-align: right;\n",
       "    }\n",
       "</style>\n",
       "<table border=\"1\" class=\"dataframe\">\n",
       "  <thead>\n",
       "    <tr style=\"text-align: right;\">\n",
       "      <th></th>\n",
       "      <th>score</th>\n",
       "      <th>comments</th>\n",
       "    </tr>\n",
       "  </thead>\n",
       "  <tbody>\n",
       "    <tr>\n",
       "      <th>count</th>\n",
       "      <td>3414.000000</td>\n",
       "      <td>3414.000000</td>\n",
       "    </tr>\n",
       "    <tr>\n",
       "      <th>mean</th>\n",
       "      <td>286.221734</td>\n",
       "      <td>17.134739</td>\n",
       "    </tr>\n",
       "    <tr>\n",
       "      <th>std</th>\n",
       "      <td>2810.811991</td>\n",
       "      <td>133.461548</td>\n",
       "    </tr>\n",
       "    <tr>\n",
       "      <th>min</th>\n",
       "      <td>0.000000</td>\n",
       "      <td>0.000000</td>\n",
       "    </tr>\n",
       "    <tr>\n",
       "      <th>25%</th>\n",
       "      <td>1.000000</td>\n",
       "      <td>0.000000</td>\n",
       "    </tr>\n",
       "    <tr>\n",
       "      <th>50%</th>\n",
       "      <td>1.000000</td>\n",
       "      <td>0.000000</td>\n",
       "    </tr>\n",
       "    <tr>\n",
       "      <th>75%</th>\n",
       "      <td>9.000000</td>\n",
       "      <td>1.000000</td>\n",
       "    </tr>\n",
       "    <tr>\n",
       "      <th>max</th>\n",
       "      <td>57956.000000</td>\n",
       "      <td>3102.000000</td>\n",
       "    </tr>\n",
       "  </tbody>\n",
       "</table>\n",
       "</div>"
      ],
      "text/plain": [
       "              score     comments\n",
       "count   3414.000000  3414.000000\n",
       "mean     286.221734    17.134739\n",
       "std     2810.811991   133.461548\n",
       "min        0.000000     0.000000\n",
       "25%        1.000000     0.000000\n",
       "50%        1.000000     0.000000\n",
       "75%        9.000000     1.000000\n",
       "max    57956.000000  3102.000000"
      ]
     },
     "execution_count": 96,
     "metadata": {},
     "output_type": "execute_result"
    }
   ],
   "source": [
    "df.describe()"
   ]
  },
  {
   "cell_type": "code",
   "execution_count": 97,
   "metadata": {},
   "outputs": [
    {
     "data": {
      "image/png": "[encoded data removed]",
      "text/plain": [
       "<Figure size 432x288 with 1 Axes>"
      ]
     },
     "metadata": {
      "needs_background": "light"
     },
     "output_type": "display_data"
    }
   ],
   "source": [
    "plt.scatter(df['score'], df['comments'])\n",
    "plt.xlabel('score')\n",
    "plt.ylabel('comments')\n",
    "plt.show()"
   ]
  },
  {
   "cell_type": "code",
   "execution_count": 98,
   "metadata": {},
   "outputs": [],
   "source": [
    "df['score'] = df['score'].replace(np.NaN, 1.0)\n",
    "df['comments'] = df['comments'].replace(np.NaN, 0.0)"
   ]
  },
  {
   "cell_type": "code",
   "execution_count": 99,
   "metadata": {},
   "outputs": [
    {
     "data": {
      "text/html": [
       "<div>\n",
       "<style scoped>\n",
       "    .dataframe tbody tr th:only-of-type {\n",
       "        vertical-align: middle;\n",
       "    }\n",
       "\n",
       "    .dataframe tbody tr th {\n",
       "        vertical-align: top;\n",
       "    }\n",
       "\n",
       "    .dataframe thead th {\n",
       "        text-align: right;\n",
       "    }\n",
       "</style>\n",
       "<table border=\"1\" class=\"dataframe\">\n",
       "  <thead>\n",
       "    <tr style=\"text-align: right;\">\n",
       "      <th></th>\n",
       "      <th>score</th>\n",
       "      <th>comments</th>\n",
       "    </tr>\n",
       "  </thead>\n",
       "  <tbody>\n",
       "    <tr>\n",
       "      <th>count</th>\n",
       "      <td>4367.000000</td>\n",
       "      <td>4367.000000</td>\n",
       "    </tr>\n",
       "    <tr>\n",
       "      <th>mean</th>\n",
       "      <td>223.978475</td>\n",
       "      <td>13.395466</td>\n",
       "    </tr>\n",
       "    <tr>\n",
       "      <th>std</th>\n",
       "      <td>2487.972699</td>\n",
       "      <td>118.212217</td>\n",
       "    </tr>\n",
       "    <tr>\n",
       "      <th>min</th>\n",
       "      <td>0.000000</td>\n",
       "      <td>0.000000</td>\n",
       "    </tr>\n",
       "    <tr>\n",
       "      <th>25%</th>\n",
       "      <td>1.000000</td>\n",
       "      <td>0.000000</td>\n",
       "    </tr>\n",
       "    <tr>\n",
       "      <th>50%</th>\n",
       "      <td>1.000000</td>\n",
       "      <td>0.000000</td>\n",
       "    </tr>\n",
       "    <tr>\n",
       "      <th>75%</th>\n",
       "      <td>2.000000</td>\n",
       "      <td>1.000000</td>\n",
       "    </tr>\n",
       "    <tr>\n",
       "      <th>max</th>\n",
       "      <td>57956.000000</td>\n",
       "      <td>3102.000000</td>\n",
       "    </tr>\n",
       "  </tbody>\n",
       "</table>\n",
       "</div>"
      ],
      "text/plain": [
       "              score     comments\n",
       "count   4367.000000  4367.000000\n",
       "mean     223.978475    13.395466\n",
       "std     2487.972699   118.212217\n",
       "min        0.000000     0.000000\n",
       "25%        1.000000     0.000000\n",
       "50%        1.000000     0.000000\n",
       "75%        2.000000     1.000000\n",
       "max    57956.000000  3102.000000"
      ]
     },
     "execution_count": 99,
     "metadata": {},
     "output_type": "execute_result"
    }
   ],
   "source": [
    "df.describe()"
   ]
  },
  {
   "cell_type": "code",
   "execution_count": 101,
   "metadata": {},
   "outputs": [
    {
     "data": {
      "text/plain": [
       "title            0\n",
       "url              0\n",
       "date             0\n",
       "transcript       0\n",
       "source           0\n",
       "subtitle      4167\n",
       "score            0\n",
       "comments         0\n",
       "thumbnail      953\n",
       "dtype: int64"
      ]
     },
     "execution_count": 101,
     "metadata": {},
     "output_type": "execute_result"
    }
   ],
   "source": [
    "df.isna().sum()"
   ]
  },
  {
   "cell_type": "code",
   "execution_count": 102,
   "metadata": {},
   "outputs": [],
   "source": [
    "df.to_json('final_data_no_missing.json', orient='records')"
   ]
  },
  {
   "cell_type": "code",
   "execution_count": 103,
   "metadata": {},
   "outputs": [],
   "source": [
    "with open('final_data_no_missing.json', 'w', encoding='utf-8') as file:\n",
    "    df.to_json(file, force_ascii=False, orient='records')"
   ]
  },
  {
   "cell_type": "code",
   "execution_count": 110,
   "metadata": {},
   "outputs": [
    {
     "data": {
      "text/html": [
       "<div>\n",
       "<style scoped>\n",
       "    .dataframe tbody tr th:only-of-type {\n",
       "        vertical-align: middle;\n",
       "    }\n",
       "\n",
       "    .dataframe tbody tr th {\n",
       "        vertical-align: top;\n",
       "    }\n",
       "\n",
       "    .dataframe thead th {\n",
       "        text-align: right;\n",
       "    }\n",
       "</style>\n",
       "<table border=\"1\" class=\"dataframe\">\n",
       "  <thead>\n",
       "    <tr style=\"text-align: right;\">\n",
       "      <th></th>\n",
       "      <th>title</th>\n",
       "      <th>url</th>\n",
       "      <th>date</th>\n",
       "      <th>transcript</th>\n",
       "      <th>source</th>\n",
       "      <th>subtitle</th>\n",
       "      <th>score</th>\n",
       "      <th>comments</th>\n",
       "      <th>thumbnail</th>\n",
       "    </tr>\n",
       "  </thead>\n",
       "  <tbody>\n",
       "    <tr>\n",
       "      <th>0</th>\n",
       "      <td>16-Year-Old Has Been Using His Flying Lessons ...</td>\n",
       "      <td>https://www.goodnewsnetwork.org/teen-flies-sup...</td>\n",
       "      <td>2020-4-9</td>\n",
       "      <td>16-year-old TJ Kim may not have his driver’s l...</td>\n",
       "      <td>goodnewsnetwork.org</td>\n",
       "      <td>NaN</td>\n",
       "      <td>1.0</td>\n",
       "      <td>0.0</td>\n",
       "      <td>NaN</td>\n",
       "    </tr>\n",
       "    <tr>\n",
       "      <th>1</th>\n",
       "      <td>Tyler Perry Picks Up the Tab for All Groceries...</td>\n",
       "      <td>https://www.goodnewsnetwork.org/tyler-perry-pa...</td>\n",
       "      <td>2020-4-9</td>\n",
       "      <td>It’s not uncommon for movie mogul Tyler Perry ...</td>\n",
       "      <td>goodnewsnetwork.org</td>\n",
       "      <td>NaN</td>\n",
       "      <td>1.0</td>\n",
       "      <td>0.0</td>\n",
       "      <td>NaN</td>\n",
       "    </tr>\n",
       "    <tr>\n",
       "      <th>2</th>\n",
       "      <td>Taking Hot Baths Every Day is Linked to Lower ...</td>\n",
       "      <td>https://www.goodnewsnetwork.org/daily-hot-bath...</td>\n",
       "      <td>2020-4-8</td>\n",
       "      <td>Regular tub bathing is linked to a lower risk ...</td>\n",
       "      <td>goodnewsnetwork.org</td>\n",
       "      <td>NaN</td>\n",
       "      <td>1.0</td>\n",
       "      <td>0.0</td>\n",
       "      <td>NaN</td>\n",
       "    </tr>\n",
       "    <tr>\n",
       "      <th>3</th>\n",
       "      <td>Watch Farmer Use His Tractor to Plow Massive T...</td>\n",
       "      <td>https://www.goodnewsnetwork.org/farmer-plows-t...</td>\n",
       "      <td>2020-4-8</td>\n",
       "      <td>A talented farmer has created his own heartwar...</td>\n",
       "      <td>goodnewsnetwork.org</td>\n",
       "      <td>NaN</td>\n",
       "      <td>1.0</td>\n",
       "      <td>0.0</td>\n",
       "      <td>NaN</td>\n",
       "    </tr>\n",
       "    <tr>\n",
       "      <th>4</th>\n",
       "      <td>3 Ways to Deal With the Anxiety of a New Situa...</td>\n",
       "      <td>https://www.goodnewsnetwork.org/dr-brene-brown...</td>\n",
       "      <td>2020-4-8</td>\n",
       "      <td>The Lesson: If you have been stressing out ami...</td>\n",
       "      <td>goodnewsnetwork.org</td>\n",
       "      <td>NaN</td>\n",
       "      <td>1.0</td>\n",
       "      <td>0.0</td>\n",
       "      <td>NaN</td>\n",
       "    </tr>\n",
       "    <tr>\n",
       "      <th>...</th>\n",
       "      <td>...</td>\n",
       "      <td>...</td>\n",
       "      <td>...</td>\n",
       "      <td>...</td>\n",
       "      <td>...</td>\n",
       "      <td>...</td>\n",
       "      <td>...</td>\n",
       "      <td>...</td>\n",
       "      <td>...</td>\n",
       "    </tr>\n",
       "    <tr>\n",
       "      <th>4362</th>\n",
       "      <td>What if all of the captive orcas, dolphins, an...</td>\n",
       "      <td>https://whalesanctuaryproject.org</td>\n",
       "      <td>2019-12-1</td>\n",
       "      <td></td>\n",
       "      <td>reddit.com/r/UpliftingNews</td>\n",
       "      <td>NaN</td>\n",
       "      <td>1.0</td>\n",
       "      <td>29.0</td>\n",
       "      <td>https://b.thumbs.redditmedia.com/FjthxilDx_L6d...</td>\n",
       "    </tr>\n",
       "    <tr>\n",
       "      <th>4363</th>\n",
       "      <td>Pretty cool right guys?</td>\n",
       "      <td>https://v.redd.it/1b1oylmm75241</td>\n",
       "      <td>2019-12-1</td>\n",
       "      <td>Sorry, this post has been removed by the moder...</td>\n",
       "      <td>reddit.com/r/UpliftingNews</td>\n",
       "      <td>NaN</td>\n",
       "      <td>1.0</td>\n",
       "      <td>0.0</td>\n",
       "      <td>default</td>\n",
       "    </tr>\n",
       "    <tr>\n",
       "      <th>4364</th>\n",
       "      <td>Cuba found to be the most sustainably develope...</td>\n",
       "      <td>https://morningstaronline.co.uk/article/w/cuba...</td>\n",
       "      <td>2019-12-1</td>\n",
       "      <td>CUBA is the most sustainably developed country...</td>\n",
       "      <td>reddit.com/r/UpliftingNews</td>\n",
       "      <td>NaN</td>\n",
       "      <td>1.0</td>\n",
       "      <td>5.0</td>\n",
       "      <td>https://b.thumbs.redditmedia.com/hDwEWmU399dVs...</td>\n",
       "    </tr>\n",
       "    <tr>\n",
       "      <th>4365</th>\n",
       "      <td>Compassionate Restaurant Sets Up \"Take One Lea...</td>\n",
       "      <td>https://understandingcompassion.com/compassion...</td>\n",
       "      <td>2019-12-1</td>\n",
       "      <td>Winter is not an easy time for the homeless, a...</td>\n",
       "      <td>reddit.com/r/UpliftingNews</td>\n",
       "      <td>NaN</td>\n",
       "      <td>1.0</td>\n",
       "      <td>0.0</td>\n",
       "      <td>default</td>\n",
       "    </tr>\n",
       "    <tr>\n",
       "      <th>4366</th>\n",
       "      <td>A tiny Colorado town opened its arms to over 7...</td>\n",
       "      <td>https://www.denverpost.com/2019/12/01/colorado...</td>\n",
       "      <td>2019-12-1</td>\n",
       "      <td>When the emergency shelter in Fairplay ran out...</td>\n",
       "      <td>reddit.com/r/UpliftingNews</td>\n",
       "      <td>NaN</td>\n",
       "      <td>1.0</td>\n",
       "      <td>14.0</td>\n",
       "      <td>default</td>\n",
       "    </tr>\n",
       "  </tbody>\n",
       "</table>\n",
       "<p>4367 rows × 9 columns</p>\n",
       "</div>"
      ],
      "text/plain": [
       "                                                  title  \\\n",
       "0     16-Year-Old Has Been Using His Flying Lessons ...   \n",
       "1     Tyler Perry Picks Up the Tab for All Groceries...   \n",
       "2     Taking Hot Baths Every Day is Linked to Lower ...   \n",
       "3     Watch Farmer Use His Tractor to Plow Massive T...   \n",
       "4     3 Ways to Deal With the Anxiety of a New Situa...   \n",
       "...                                                 ...   \n",
       "4362  What if all of the captive orcas, dolphins, an...   \n",
       "4363                            Pretty cool right guys?   \n",
       "4364  Cuba found to be the most sustainably develope...   \n",
       "4365  Compassionate Restaurant Sets Up \"Take One Lea...   \n",
       "4366  A tiny Colorado town opened its arms to over 7...   \n",
       "\n",
       "                                                    url       date  \\\n",
       "0     https://www.goodnewsnetwork.org/teen-flies-sup...   2020-4-9   \n",
       "1     https://www.goodnewsnetwork.org/tyler-perry-pa...   2020-4-9   \n",
       "2     https://www.goodnewsnetwork.org/daily-hot-bath...   2020-4-8   \n",
       "3     https://www.goodnewsnetwork.org/farmer-plows-t...   2020-4-8   \n",
       "4     https://www.goodnewsnetwork.org/dr-brene-brown...   2020-4-8   \n",
       "...                                                 ...        ...   \n",
       "4362                  https://whalesanctuaryproject.org  2019-12-1   \n",
       "4363                    https://v.redd.it/1b1oylmm75241  2019-12-1   \n",
       "4364  https://morningstaronline.co.uk/article/w/cuba...  2019-12-1   \n",
       "4365  https://understandingcompassion.com/compassion...  2019-12-1   \n",
       "4366  https://www.denverpost.com/2019/12/01/colorado...  2019-12-1   \n",
       "\n",
       "                                             transcript  \\\n",
       "0     16-year-old TJ Kim may not have his driver’s l...   \n",
       "1     It’s not uncommon for movie mogul Tyler Perry ...   \n",
       "2     Regular tub bathing is linked to a lower risk ...   \n",
       "3     A talented farmer has created his own heartwar...   \n",
       "4     The Lesson: If you have been stressing out ami...   \n",
       "...                                                 ...   \n",
       "4362                                                      \n",
       "4363  Sorry, this post has been removed by the moder...   \n",
       "4364  CUBA is the most sustainably developed country...   \n",
       "4365  Winter is not an easy time for the homeless, a...   \n",
       "4366  When the emergency shelter in Fairplay ran out...   \n",
       "\n",
       "                          source subtitle  score  comments  \\\n",
       "0            goodnewsnetwork.org      NaN    1.0       0.0   \n",
       "1            goodnewsnetwork.org      NaN    1.0       0.0   \n",
       "2            goodnewsnetwork.org      NaN    1.0       0.0   \n",
       "3            goodnewsnetwork.org      NaN    1.0       0.0   \n",
       "4            goodnewsnetwork.org      NaN    1.0       0.0   \n",
       "...                          ...      ...    ...       ...   \n",
       "4362  reddit.com/r/UpliftingNews      NaN    1.0      29.0   \n",
       "4363  reddit.com/r/UpliftingNews      NaN    1.0       0.0   \n",
       "4364  reddit.com/r/UpliftingNews      NaN    1.0       5.0   \n",
       "4365  reddit.com/r/UpliftingNews      NaN    1.0       0.0   \n",
       "4366  reddit.com/r/UpliftingNews      NaN    1.0      14.0   \n",
       "\n",
       "                                              thumbnail  \n",
       "0                                                   NaN  \n",
       "1                                                   NaN  \n",
       "2                                                   NaN  \n",
       "3                                                   NaN  \n",
       "4                                                   NaN  \n",
       "...                                                 ...  \n",
       "4362  https://b.thumbs.redditmedia.com/FjthxilDx_L6d...  \n",
       "4363                                            default  \n",
       "4364  https://b.thumbs.redditmedia.com/hDwEWmU399dVs...  \n",
       "4365                                            default  \n",
       "4366                                            default  \n",
       "\n",
       "[4367 rows x 9 columns]"
      ]
     },
     "execution_count": 110,
     "metadata": {},
     "output_type": "execute_result"
    }
   ],
   "source": [
    "df"
   ]
  },
  {
   "cell_type": "code",
   "execution_count": null,
   "metadata": {},
   "outputs": [],
   "source": []
  }
 ],
 "metadata": {
  "kernelspec": {
   "display_name": "Python 3",
   "language": "python",
   "name": "python3"
  },
  "language_info": {
   "codemirror_mode": {
    "name": "ipython",
    "version": 3
   },
   "file_extension": ".py",
   "mimetype": "text/x-python",
   "name": "python",
   "nbconvert_exporter": "python",
   "pygments_lexer": "ipython3",
   "version": "3.7.6"
  }
 },
 "nbformat": 4,
 "nbformat_minor": 4
}
